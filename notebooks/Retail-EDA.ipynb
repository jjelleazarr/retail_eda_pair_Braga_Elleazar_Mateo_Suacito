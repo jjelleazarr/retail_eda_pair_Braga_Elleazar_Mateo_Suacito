{
 "cells": [
  {
   "cell_type": "markdown",
   "id": "121fd4d8",
   "metadata": {},
   "source": [
    "</br>\n",
    "<h1 align=\"center\" style=\"color:green\">Case-Based Hands-On EDA Activity</br> UK-based Online Gift Retailer Dataset</h1>\n",
    "<div style=\"text-align:center\">Prepared by <b>Kirk T. Braga, Jan Vincent G. Elleazar, Michael Suacito, and Carl Jacob Mateo</b><br>\n",
    "CSELEC3C - Data Analysis and Visualization <br>\n",
    "<b>UST College of Information and Computing Sciences</b>\n",
    "</div>"
   ]
  },
  {
   "cell_type": "markdown",
   "id": "39b46e6a",
   "metadata": {},
   "source": [
    "***\n",
    "## Scenario\n",
    "You’ve been hired as a junior data-analytics duo at a UK-based online gift retailer. The CEO wants to understand what truly drives revenue and returns across two years of transactions to guide Q4 promotions and inventory buys. Your job is to clean, explore, and explain the dataset—surfacing patterns by product, country, customers, and time.\n",
    "\n",
    "## Learning Outcomes\n",
    "- Clean messy transaction data and build derived fields for retail EDA.\n",
    "- Summarize and visualize customers, orders, products, countries, and time.\n",
    "- Quantify returns and their impact on revenue and top products.\n",
    "- Communicate insights with clear plots and a short slide story.\n",
    "***"
   ]
  },
  {
   "cell_type": "markdown",
   "id": "52d381fc",
   "metadata": {},
   "source": [
    "# Step-by-Step Tasks\n",
    "## 1) Project setup\n",
    "Create a folder: ```retail_eda_pair_Surname1_Surname2/``` <br>\n",
    "Subfolders: ```notebooks/```, ```figures/```, ```reports/```, ```exports/```.\n",
    "## 2) Load & union the data\n",
    "- Load both sheets and concatenate into a single table.\n",
    "- Parse ```InvoiceDate``` as datetime (it includes time of day).\n",
    "- Add a column ```YearSheet``` showing the source sheet (2009–2010 vs 2010–2011) for comparisons."
   ]
  },
  {
   "cell_type": "code",
   "execution_count": 1,
   "id": "633868cf",
   "metadata": {},
   "outputs": [
    {
     "name": "stderr",
     "output_type": "stream",
     "text": [
      "/var/folders/vs/zcjd1wds7_78_tmdl741y03m0000gn/T/ipykernel_4583/222971915.py:14: UserWarning: Could not infer format, so each element will be parsed individually, falling back to `dateutil`. To ensure parsing is consistent and as-expected, please specify a format.\n",
      "  data['InvoiceDate'] = pd.to_datetime(data['InvoiceDate'])\n"
     ]
    },
    {
     "name": "stdout",
     "output_type": "stream",
     "text": [
      "  Invoice StockCode                          Description  Quantity  \\\n",
      "0  489434     85048  15CM CHRISTMAS GLASS BALL 20 LIGHTS        12   \n",
      "1  489434    79323P                   PINK CHERRY LIGHTS        12   \n",
      "2  489434    79323W                  WHITE CHERRY LIGHTS        12   \n",
      "3  489434     22041         RECORD FRAME 7\" SINGLE SIZE         48   \n",
      "4  489434     21232       STRAWBERRY CERAMIC TRINKET BOX        24   \n",
      "\n",
      "          InvoiceDate  Price  Customer ID         Country  YearSheet  \n",
      "0 2009-12-01 07:45:00   6.95      13085.0  United Kingdom  2009-2010  \n",
      "1 2009-12-01 07:45:00   6.75      13085.0  United Kingdom  2009-2010  \n",
      "2 2009-12-01 07:45:00   6.75      13085.0  United Kingdom  2009-2010  \n",
      "3 2009-12-01 07:45:00   2.10      13085.0  United Kingdom  2009-2010  \n",
      "4 2009-12-01 07:45:00   1.25      13085.0  United Kingdom  2009-2010  \n",
      "\n",
      "\n",
      "        Invoice StockCode                      Description  Quantity  \\\n",
      "1067366  581587     22899     CHILDREN'S APRON DOLLY GIRL          6   \n",
      "1067367  581587     23254    CHILDRENS CUTLERY DOLLY GIRL          4   \n",
      "1067368  581587     23255  CHILDRENS CUTLERY CIRCUS PARADE         4   \n",
      "1067369  581587     22138    BAKING SET 9 PIECE RETROSPOT          3   \n",
      "1067370  581587      POST                          POSTAGE         1   \n",
      "\n",
      "                InvoiceDate  Price  Customer ID Country  YearSheet  \n",
      "1067366 2011-12-09 12:50:00   2.10      12680.0  France  2010-2011  \n",
      "1067367 2011-12-09 12:50:00   4.15      12680.0  France  2010-2011  \n",
      "1067368 2011-12-09 12:50:00   4.15      12680.0  France  2010-2011  \n",
      "1067369 2011-12-09 12:50:00   4.95      12680.0  France  2010-2011  \n",
      "1067370 2011-12-09 12:50:00  18.00      12680.0  France  2010-2011  \n"
     ]
    }
   ],
   "source": [
    "import pandas as pd\n",
    "import numpy as np\n",
    "import matplotlib.pyplot as plt\n",
    "\n",
    "# Load csv dataset\n",
    "data1 = pd.read_csv('online_retail_II.xlsx - Year 2009-2010.csv')\n",
    "data2 = pd.read_csv('online_retail_II.xlsx - Year 2010-2011.csv')\n",
    "# Note: Adjust the file paths on your system as needed\n",
    "\n",
    "# Concatenate datasets\n",
    "data = pd.concat([data1, data2], ignore_index=True)\n",
    "\n",
    "# Parse InvoiceDate to datetime\n",
    "data['InvoiceDate'] = pd.to_datetime(data['InvoiceDate'])\n",
    "\n",
    "# Add a column 'YearSheet' showing the source sheet (2009-2010 vs 2010-2011)\n",
    "data['YearSheet'] = np.where(data['InvoiceDate'].dt.year == 2009, '2009-2010', '2010-2011')\n",
    "\n",
    "# Display the first few rows of the combined dataset\n",
    "print(data.head())\n",
    "print(\"\\n\")\n",
    "# Display the last few rows of the combined dataset\n",
    "print(data.tail())"
   ]
  },
  {
   "cell_type": "markdown",
   "id": "d422e850",
   "metadata": {},
   "source": [
    "## 3) Basic cleaning\n",
    "- Drop exact duplicate rows.\n",
    "- Handle missing Customer ID (report % missing; keep for product/country EDA, but exclude from customer-level analyses).\n",
    "- Remove or flag zero/negative Price rows (report counts).\n",
    "- Create returns flag: Is_Return = Quantity < 0.\n",
    "- Create Revenue: Revenue = Quantity * Price (negative revenue for returns)."
   ]
  },
  {
   "cell_type": "code",
   "execution_count": 2,
   "id": "79274c7f",
   "metadata": {},
   "outputs": [
    {
     "name": "stdout",
     "output_type": "stream",
     "text": [
      "Percentage of missing Customer ID: 22.76%\n",
      "Percentage of missing Customer ID after removal: 22.76%\n",
      "Count of zero/negative Price rows: 6019\n",
      "Count of zero/negative Price rows after removal: 0\n",
      "Counts of returns vs non-returns:\n",
      "Is_Return\n",
      "False    1007914\n",
      "True       19103\n",
      "Name: count, dtype: int64\n",
      "Final check - Count of zero/negative Price rows: 0\n",
      "--------------------------------\n",
      "  Invoice StockCode                          Description  Quantity  \\\n",
      "0  489434     85048  15CM CHRISTMAS GLASS BALL 20 LIGHTS        12   \n",
      "1  489434    79323P                   PINK CHERRY LIGHTS        12   \n",
      "2  489434    79323W                  WHITE CHERRY LIGHTS        12   \n",
      "3  489434     22041         RECORD FRAME 7\" SINGLE SIZE         48   \n",
      "4  489434     21232       STRAWBERRY CERAMIC TRINKET BOX        24   \n",
      "\n",
      "          InvoiceDate  Price  Customer ID         Country  YearSheet  \\\n",
      "0 2009-12-01 07:45:00   6.95      13085.0  United Kingdom  2009-2010   \n",
      "1 2009-12-01 07:45:00   6.75      13085.0  United Kingdom  2009-2010   \n",
      "2 2009-12-01 07:45:00   6.75      13085.0  United Kingdom  2009-2010   \n",
      "3 2009-12-01 07:45:00   2.10      13085.0  United Kingdom  2009-2010   \n",
      "4 2009-12-01 07:45:00   1.25      13085.0  United Kingdom  2009-2010   \n",
      "\n",
      "   Is_Return  Revenue  \n",
      "0      False     83.4  \n",
      "1      False     81.0  \n",
      "2      False     81.0  \n",
      "3      False    100.8  \n",
      "4      False     30.0  \n",
      "        Invoice StockCode                      Description  Quantity  \\\n",
      "1067366  581587     22899     CHILDREN'S APRON DOLLY GIRL          6   \n",
      "1067367  581587     23254    CHILDRENS CUTLERY DOLLY GIRL          4   \n",
      "1067368  581587     23255  CHILDRENS CUTLERY CIRCUS PARADE         4   \n",
      "1067369  581587     22138    BAKING SET 9 PIECE RETROSPOT          3   \n",
      "1067370  581587      POST                          POSTAGE         1   \n",
      "\n",
      "                InvoiceDate  Price  Customer ID Country  YearSheet  Is_Return  \\\n",
      "1067366 2011-12-09 12:50:00   2.10      12680.0  France  2010-2011      False   \n",
      "1067367 2011-12-09 12:50:00   4.15      12680.0  France  2010-2011      False   \n",
      "1067368 2011-12-09 12:50:00   4.15      12680.0  France  2010-2011      False   \n",
      "1067369 2011-12-09 12:50:00   4.95      12680.0  France  2010-2011      False   \n",
      "1067370 2011-12-09 12:50:00  18.00      12680.0  France  2010-2011      False   \n",
      "\n",
      "         Revenue  \n",
      "1067366    12.60  \n",
      "1067367    16.60  \n",
      "1067368    16.60  \n",
      "1067369    14.85  \n",
      "1067370    18.00  \n"
     ]
    }
   ],
   "source": [
    "# Drop exact duplicate rows\n",
    "data = data.drop_duplicates()\n",
    "\n",
    "# Report percentage of missing Customer ID\n",
    "missing_customer_id_pct = data['Customer ID'].isna().mean() * 100\n",
    "print(f\"Percentage of missing Customer ID: {missing_customer_id_pct:.2f}%\")\n",
    "\n",
    "# Check for missing customer IDs again\n",
    "missing_customer_id_pct = data['Customer ID'].isna().mean() * 100\n",
    "print(f\"Percentage of missing Customer ID after removal: {missing_customer_id_pct:.2f}%\")\n",
    "\n",
    "# Flag zero/negative Price rows\n",
    "zero_negative_price_count = (data['Price'] <= 0).sum()\n",
    "print(f\"Count of zero/negative Price rows: {zero_negative_price_count}\")\n",
    "\n",
    "# Remove rows with zero/negative Price\n",
    "data = data[data['Price'] > 0]\n",
    "\n",
    "# Check for zero/negative Price rows again\n",
    "zero_negative_price_count = (data['Price'] <= 0).sum()\n",
    "print(f\"Count of zero/negative Price rows after removal: {zero_negative_price_count}\")\n",
    "\n",
    "# Create returns flag\n",
    "data['Is_Return'] = data['Quantity'] < 0\n",
    "\n",
    "# Show counts of returns vs non-returns\n",
    "returns_counts = data['Is_Return'].value_counts()\n",
    "print(\"Counts of returns vs non-returns:\")\n",
    "print(returns_counts)\n",
    "\n",
    "# Create Revenue column (negative revenue for returns)\n",
    "data['Revenue'] = data['Quantity'] * data['Price']\n",
    "\n",
    "# Confirm no Price <= 0 rows\n",
    "zero_negative_price_count = (data['Price'] <= 0).sum()\n",
    "print(f\"Final check - Count of zero/negative Price rows: {zero_negative_price_count}\")\n",
    "\n",
    "print('--------------------------------')\n",
    "\n",
    "# Display the first few rows of the cleaned dataset\n",
    "print(data.head())\n",
    "\n",
    "# Display the last few rows of the cleaned dataset\n",
    "print(data.tail())"
   ]
  },
  {
   "cell_type": "markdown",
   "id": "1105e672",
   "metadata": {},
   "source": [
    "## 4) Time features\n",
    "From ``InvoiceDate``, derive:\n",
    "- ``Year, Quarter, Month, DayOfWeek, Hour``\n",
    "- ``InvoiceDateFloorMonth`` (month start) for monthly rollups. \n",
    "\n",
    "Checks:\n",
    "- Value counts for ``Hour`` and ``DayOfWeek`` to see busy times."
   ]
  },
  {
   "cell_type": "code",
   "execution_count": 3,
   "id": "1d44efbd",
   "metadata": {},
   "outputs": [
    {
     "data": {
      "application/vnd.microsoft.datawrangler.viewer.v0+json": {
       "columns": [
        {
         "name": "index",
         "rawType": "int64",
         "type": "integer"
        },
        {
         "name": "Invoice",
         "rawType": "object",
         "type": "string"
        },
        {
         "name": "StockCode",
         "rawType": "object",
         "type": "string"
        },
        {
         "name": "Description",
         "rawType": "object",
         "type": "string"
        },
        {
         "name": "Quantity",
         "rawType": "int64",
         "type": "integer"
        },
        {
         "name": "InvoiceDate",
         "rawType": "datetime64[ns]",
         "type": "datetime"
        },
        {
         "name": "Price",
         "rawType": "float64",
         "type": "float"
        },
        {
         "name": "Customer ID",
         "rawType": "float64",
         "type": "float"
        },
        {
         "name": "Country",
         "rawType": "object",
         "type": "string"
        },
        {
         "name": "YearSheet",
         "rawType": "object",
         "type": "string"
        },
        {
         "name": "Is_Return",
         "rawType": "bool",
         "type": "boolean"
        },
        {
         "name": "Revenue",
         "rawType": "float64",
         "type": "float"
        },
        {
         "name": "Year",
         "rawType": "int32",
         "type": "integer"
        },
        {
         "name": "Quarter",
         "rawType": "int32",
         "type": "integer"
        },
        {
         "name": "Month",
         "rawType": "int32",
         "type": "integer"
        },
        {
         "name": "Day",
         "rawType": "int32",
         "type": "integer"
        },
        {
         "name": "Hour",
         "rawType": "int32",
         "type": "integer"
        },
        {
         "name": "InvoiceDateFloorMonth",
         "rawType": "period[M]",
         "type": "unknown"
        }
       ],
       "ref": "bbc3155c-0818-4a4a-82ce-5c6183e7fd3a",
       "rows": [
        [
         "0",
         "489434",
         "85048",
         "15CM CHRISTMAS GLASS BALL 20 LIGHTS",
         "12",
         "2009-12-01 07:45:00",
         "6.95",
         "13085.0",
         "United Kingdom",
         "2009-2010",
         "False",
         "83.4",
         "2009",
         "4",
         "12",
         "1",
         "7",
         "2009-12"
        ],
        [
         "1",
         "489434",
         "79323P",
         "PINK CHERRY LIGHTS",
         "12",
         "2009-12-01 07:45:00",
         "6.75",
         "13085.0",
         "United Kingdom",
         "2009-2010",
         "False",
         "81.0",
         "2009",
         "4",
         "12",
         "1",
         "7",
         "2009-12"
        ],
        [
         "2",
         "489434",
         "79323W",
         " WHITE CHERRY LIGHTS",
         "12",
         "2009-12-01 07:45:00",
         "6.75",
         "13085.0",
         "United Kingdom",
         "2009-2010",
         "False",
         "81.0",
         "2009",
         "4",
         "12",
         "1",
         "7",
         "2009-12"
        ],
        [
         "3",
         "489434",
         "22041",
         "RECORD FRAME 7\" SINGLE SIZE ",
         "48",
         "2009-12-01 07:45:00",
         "2.1",
         "13085.0",
         "United Kingdom",
         "2009-2010",
         "False",
         "100.80000000000001",
         "2009",
         "4",
         "12",
         "1",
         "7",
         "2009-12"
        ],
        [
         "4",
         "489434",
         "21232",
         "STRAWBERRY CERAMIC TRINKET BOX",
         "24",
         "2009-12-01 07:45:00",
         "1.25",
         "13085.0",
         "United Kingdom",
         "2009-2010",
         "False",
         "30.0",
         "2009",
         "4",
         "12",
         "1",
         "7",
         "2009-12"
        ]
       ],
       "shape": {
        "columns": 17,
        "rows": 5
       }
      },
      "text/html": [
       "<div>\n",
       "<style scoped>\n",
       "    .dataframe tbody tr th:only-of-type {\n",
       "        vertical-align: middle;\n",
       "    }\n",
       "\n",
       "    .dataframe tbody tr th {\n",
       "        vertical-align: top;\n",
       "    }\n",
       "\n",
       "    .dataframe thead th {\n",
       "        text-align: right;\n",
       "    }\n",
       "</style>\n",
       "<table border=\"1\" class=\"dataframe\">\n",
       "  <thead>\n",
       "    <tr style=\"text-align: right;\">\n",
       "      <th></th>\n",
       "      <th>Invoice</th>\n",
       "      <th>StockCode</th>\n",
       "      <th>Description</th>\n",
       "      <th>Quantity</th>\n",
       "      <th>InvoiceDate</th>\n",
       "      <th>Price</th>\n",
       "      <th>Customer ID</th>\n",
       "      <th>Country</th>\n",
       "      <th>YearSheet</th>\n",
       "      <th>Is_Return</th>\n",
       "      <th>Revenue</th>\n",
       "      <th>Year</th>\n",
       "      <th>Quarter</th>\n",
       "      <th>Month</th>\n",
       "      <th>Day</th>\n",
       "      <th>Hour</th>\n",
       "      <th>InvoiceDateFloorMonth</th>\n",
       "    </tr>\n",
       "  </thead>\n",
       "  <tbody>\n",
       "    <tr>\n",
       "      <th>0</th>\n",
       "      <td>489434</td>\n",
       "      <td>85048</td>\n",
       "      <td>15CM CHRISTMAS GLASS BALL 20 LIGHTS</td>\n",
       "      <td>12</td>\n",
       "      <td>2009-12-01 07:45:00</td>\n",
       "      <td>6.95</td>\n",
       "      <td>13085.0</td>\n",
       "      <td>United Kingdom</td>\n",
       "      <td>2009-2010</td>\n",
       "      <td>False</td>\n",
       "      <td>83.4</td>\n",
       "      <td>2009</td>\n",
       "      <td>4</td>\n",
       "      <td>12</td>\n",
       "      <td>1</td>\n",
       "      <td>7</td>\n",
       "      <td>2009-12</td>\n",
       "    </tr>\n",
       "    <tr>\n",
       "      <th>1</th>\n",
       "      <td>489434</td>\n",
       "      <td>79323P</td>\n",
       "      <td>PINK CHERRY LIGHTS</td>\n",
       "      <td>12</td>\n",
       "      <td>2009-12-01 07:45:00</td>\n",
       "      <td>6.75</td>\n",
       "      <td>13085.0</td>\n",
       "      <td>United Kingdom</td>\n",
       "      <td>2009-2010</td>\n",
       "      <td>False</td>\n",
       "      <td>81.0</td>\n",
       "      <td>2009</td>\n",
       "      <td>4</td>\n",
       "      <td>12</td>\n",
       "      <td>1</td>\n",
       "      <td>7</td>\n",
       "      <td>2009-12</td>\n",
       "    </tr>\n",
       "    <tr>\n",
       "      <th>2</th>\n",
       "      <td>489434</td>\n",
       "      <td>79323W</td>\n",
       "      <td>WHITE CHERRY LIGHTS</td>\n",
       "      <td>12</td>\n",
       "      <td>2009-12-01 07:45:00</td>\n",
       "      <td>6.75</td>\n",
       "      <td>13085.0</td>\n",
       "      <td>United Kingdom</td>\n",
       "      <td>2009-2010</td>\n",
       "      <td>False</td>\n",
       "      <td>81.0</td>\n",
       "      <td>2009</td>\n",
       "      <td>4</td>\n",
       "      <td>12</td>\n",
       "      <td>1</td>\n",
       "      <td>7</td>\n",
       "      <td>2009-12</td>\n",
       "    </tr>\n",
       "    <tr>\n",
       "      <th>3</th>\n",
       "      <td>489434</td>\n",
       "      <td>22041</td>\n",
       "      <td>RECORD FRAME 7\" SINGLE SIZE</td>\n",
       "      <td>48</td>\n",
       "      <td>2009-12-01 07:45:00</td>\n",
       "      <td>2.10</td>\n",
       "      <td>13085.0</td>\n",
       "      <td>United Kingdom</td>\n",
       "      <td>2009-2010</td>\n",
       "      <td>False</td>\n",
       "      <td>100.8</td>\n",
       "      <td>2009</td>\n",
       "      <td>4</td>\n",
       "      <td>12</td>\n",
       "      <td>1</td>\n",
       "      <td>7</td>\n",
       "      <td>2009-12</td>\n",
       "    </tr>\n",
       "    <tr>\n",
       "      <th>4</th>\n",
       "      <td>489434</td>\n",
       "      <td>21232</td>\n",
       "      <td>STRAWBERRY CERAMIC TRINKET BOX</td>\n",
       "      <td>24</td>\n",
       "      <td>2009-12-01 07:45:00</td>\n",
       "      <td>1.25</td>\n",
       "      <td>13085.0</td>\n",
       "      <td>United Kingdom</td>\n",
       "      <td>2009-2010</td>\n",
       "      <td>False</td>\n",
       "      <td>30.0</td>\n",
       "      <td>2009</td>\n",
       "      <td>4</td>\n",
       "      <td>12</td>\n",
       "      <td>1</td>\n",
       "      <td>7</td>\n",
       "      <td>2009-12</td>\n",
       "    </tr>\n",
       "  </tbody>\n",
       "</table>\n",
       "</div>"
      ],
      "text/plain": [
       "  Invoice StockCode                          Description  Quantity  \\\n",
       "0  489434     85048  15CM CHRISTMAS GLASS BALL 20 LIGHTS        12   \n",
       "1  489434    79323P                   PINK CHERRY LIGHTS        12   \n",
       "2  489434    79323W                  WHITE CHERRY LIGHTS        12   \n",
       "3  489434     22041         RECORD FRAME 7\" SINGLE SIZE         48   \n",
       "4  489434     21232       STRAWBERRY CERAMIC TRINKET BOX        24   \n",
       "\n",
       "          InvoiceDate  Price  Customer ID         Country  YearSheet  \\\n",
       "0 2009-12-01 07:45:00   6.95      13085.0  United Kingdom  2009-2010   \n",
       "1 2009-12-01 07:45:00   6.75      13085.0  United Kingdom  2009-2010   \n",
       "2 2009-12-01 07:45:00   6.75      13085.0  United Kingdom  2009-2010   \n",
       "3 2009-12-01 07:45:00   2.10      13085.0  United Kingdom  2009-2010   \n",
       "4 2009-12-01 07:45:00   1.25      13085.0  United Kingdom  2009-2010   \n",
       "\n",
       "   Is_Return  Revenue  Year  Quarter  Month  Day  Hour InvoiceDateFloorMonth  \n",
       "0      False     83.4  2009        4     12    1     7               2009-12  \n",
       "1      False     81.0  2009        4     12    1     7               2009-12  \n",
       "2      False     81.0  2009        4     12    1     7               2009-12  \n",
       "3      False    100.8  2009        4     12    1     7               2009-12  \n",
       "4      False     30.0  2009        4     12    1     7               2009-12  "
      ]
     },
     "execution_count": 3,
     "metadata": {},
     "output_type": "execute_result"
    }
   ],
   "source": [
    "# Insert code for time features here\n",
    "\n",
    "# Year, Quarter, Month, DayOfWeek, Hour columns\n",
    "data['Year'] = data['InvoiceDate'].dt.year\n",
    "data['Quarter'] = data['InvoiceDate'].dt.quarter\n",
    "data['Month'] = data['InvoiceDate'].dt.month\n",
    "data['Day'] = data['InvoiceDate'].dt.day\n",
    "data['Hour'] = data['InvoiceDate'].dt.hour\n",
    "\n",
    "# InvoiceDateFloorMonth (month start) for monthly rollups\n",
    "data['InvoiceDateFloorMonth'] = data['InvoiceDate'].dt.to_period('M')\n",
    "\n",
    "# check data\n",
    "data.head()"
   ]
  },
  {
   "cell_type": "code",
   "execution_count": 4,
   "id": "50c4e330-532e-4bee-b46e-a39265bff9dd",
   "metadata": {},
   "outputs": [],
   "source": [
    "# Value counts for Hour and DayOfWeek to see busy times.\n",
    "hour_counts = data['Hour'].value_counts().sort_index()\n",
    "# print(hour_counts)\n",
    "\n",
    "day_counts = data['Day'].value_counts().sort_index()\n",
    "# print(day_counts)"
   ]
  },
  {
   "cell_type": "markdown",
   "id": "7f85f727",
   "metadata": {},
   "source": [
    "## 5) Orders & customers\n",
    "- Define order level by ``Invoice`` (each invoice is an order).\n",
    "- Compute AOV (Average Order Value), items per order, and orders per customer (where ``Customer ID`` exists).\n",
    "- Classify customers: New vs Repeat per sheet-year (first purchase month per customer).\n",
    "\n",
    "Outputs:\n",
    "- Table: ``n_orders, n_customers (non-null), AOV, items_per_order`` per ``YearSheet``.\n",
    "- Bar chart: New vs Repeat revenue share per ``YearSheet``."
   ]
  },
  {
   "cell_type": "code",
   "execution_count": 5,
   "id": "caf1c4d6",
   "metadata": {},
   "outputs": [
    {
     "data": {
      "application/vnd.microsoft.datawrangler.viewer.v0+json": {
       "columns": [
        {
         "name": "index",
         "rawType": "int64",
         "type": "integer"
        },
        {
         "name": "Invoice",
         "rawType": "object",
         "type": "string"
        },
        {
         "name": "Customer_ID",
         "rawType": "float64",
         "type": "float"
        },
        {
         "name": "YearSheet",
         "rawType": "object",
         "type": "string"
        },
        {
         "name": "Revenue",
         "rawType": "float64",
         "type": "float"
        },
        {
         "name": "Items",
         "rawType": "int64",
         "type": "integer"
        }
       ],
       "ref": "ad8ac0b9-d175-4a74-9225-3a4186847c72",
       "rows": [
        [
         "0",
         "489434",
         "13085.0",
         "2009-2010",
         "505.3",
         "166"
        ],
        [
         "1",
         "489435",
         "13085.0",
         "2009-2010",
         "145.79999999999998",
         "60"
        ],
        [
         "2",
         "489436",
         "13078.0",
         "2009-2010",
         "630.33",
         "193"
        ],
        [
         "3",
         "489437",
         "15362.0",
         "2009-2010",
         "310.75",
         "145"
        ],
        [
         "4",
         "489438",
         "18102.0",
         "2009-2010",
         "2286.24",
         "826"
        ]
       ],
       "shape": {
        "columns": 5,
        "rows": 5
       }
      },
      "text/html": [
       "<div>\n",
       "<style scoped>\n",
       "    .dataframe tbody tr th:only-of-type {\n",
       "        vertical-align: middle;\n",
       "    }\n",
       "\n",
       "    .dataframe tbody tr th {\n",
       "        vertical-align: top;\n",
       "    }\n",
       "\n",
       "    .dataframe thead th {\n",
       "        text-align: right;\n",
       "    }\n",
       "</style>\n",
       "<table border=\"1\" class=\"dataframe\">\n",
       "  <thead>\n",
       "    <tr style=\"text-align: right;\">\n",
       "      <th></th>\n",
       "      <th>Invoice</th>\n",
       "      <th>Customer_ID</th>\n",
       "      <th>YearSheet</th>\n",
       "      <th>Revenue</th>\n",
       "      <th>Items</th>\n",
       "    </tr>\n",
       "  </thead>\n",
       "  <tbody>\n",
       "    <tr>\n",
       "      <th>0</th>\n",
       "      <td>489434</td>\n",
       "      <td>13085.0</td>\n",
       "      <td>2009-2010</td>\n",
       "      <td>505.30</td>\n",
       "      <td>166</td>\n",
       "    </tr>\n",
       "    <tr>\n",
       "      <th>1</th>\n",
       "      <td>489435</td>\n",
       "      <td>13085.0</td>\n",
       "      <td>2009-2010</td>\n",
       "      <td>145.80</td>\n",
       "      <td>60</td>\n",
       "    </tr>\n",
       "    <tr>\n",
       "      <th>2</th>\n",
       "      <td>489436</td>\n",
       "      <td>13078.0</td>\n",
       "      <td>2009-2010</td>\n",
       "      <td>630.33</td>\n",
       "      <td>193</td>\n",
       "    </tr>\n",
       "    <tr>\n",
       "      <th>3</th>\n",
       "      <td>489437</td>\n",
       "      <td>15362.0</td>\n",
       "      <td>2009-2010</td>\n",
       "      <td>310.75</td>\n",
       "      <td>145</td>\n",
       "    </tr>\n",
       "    <tr>\n",
       "      <th>4</th>\n",
       "      <td>489438</td>\n",
       "      <td>18102.0</td>\n",
       "      <td>2009-2010</td>\n",
       "      <td>2286.24</td>\n",
       "      <td>826</td>\n",
       "    </tr>\n",
       "  </tbody>\n",
       "</table>\n",
       "</div>"
      ],
      "text/plain": [
       "  Invoice  Customer_ID  YearSheet  Revenue  Items\n",
       "0  489434      13085.0  2009-2010   505.30    166\n",
       "1  489435      13085.0  2009-2010   145.80     60\n",
       "2  489436      13078.0  2009-2010   630.33    193\n",
       "3  489437      15362.0  2009-2010   310.75    145\n",
       "4  489438      18102.0  2009-2010  2286.24    826"
      ]
     },
     "execution_count": 5,
     "metadata": {},
     "output_type": "execute_result"
    }
   ],
   "source": [
    "# Insert code for orders & customers here\n",
    "\n",
    "# Create orders table\n",
    "orders = (\n",
    "    data.groupby('Invoice')\n",
    "    .agg(\n",
    "        Customer_ID=('Customer ID', 'first'),\n",
    "        YearSheet=('YearSheet', 'first'),\n",
    "        Revenue=('Revenue', 'sum'),\n",
    "        Items=('Quantity', 'sum')\n",
    "    )\n",
    "    .reset_index()\n",
    ")\n",
    "orders.head()"
   ]
  },
  {
   "cell_type": "code",
   "execution_count": 6,
   "id": "fe17e999-0cb3-4d87-b1bb-4cdb8ad9fed3",
   "metadata": {},
   "outputs": [
    {
     "data": {
      "application/vnd.microsoft.datawrangler.viewer.v0+json": {
       "columns": [
        {
         "name": "index",
         "rawType": "int64",
         "type": "integer"
        },
        {
         "name": "YearSheet",
         "rawType": "object",
         "type": "string"
        },
        {
         "name": "AOV",
         "rawType": "float64",
         "type": "float"
        },
        {
         "name": "avg_items_per_order",
         "rawType": "float64",
         "type": "float"
        },
        {
         "name": "n_orders",
         "rawType": "int64",
         "type": "integer"
        },
        {
         "name": "n_customers",
         "rawType": "int64",
         "type": "integer"
        }
       ],
       "ref": "bf112c2d-72e0-48b0-88e2-41c62bf67ad1",
       "rows": [
        [
         "0",
         "2009-2010",
         "382.4524723955833",
         "199.4455112818051",
         "2083",
         "1045"
        ],
        [
         "1",
         "2010-2011",
         "393.58685861815667",
         "222.8078468651428",
         "46286",
         "5839"
        ]
       ],
       "shape": {
        "columns": 5,
        "rows": 2
       }
      },
      "text/html": [
       "<div>\n",
       "<style scoped>\n",
       "    .dataframe tbody tr th:only-of-type {\n",
       "        vertical-align: middle;\n",
       "    }\n",
       "\n",
       "    .dataframe tbody tr th {\n",
       "        vertical-align: top;\n",
       "    }\n",
       "\n",
       "    .dataframe thead th {\n",
       "        text-align: right;\n",
       "    }\n",
       "</style>\n",
       "<table border=\"1\" class=\"dataframe\">\n",
       "  <thead>\n",
       "    <tr style=\"text-align: right;\">\n",
       "      <th></th>\n",
       "      <th>YearSheet</th>\n",
       "      <th>AOV</th>\n",
       "      <th>avg_items_per_order</th>\n",
       "      <th>n_orders</th>\n",
       "      <th>n_customers</th>\n",
       "    </tr>\n",
       "  </thead>\n",
       "  <tbody>\n",
       "    <tr>\n",
       "      <th>0</th>\n",
       "      <td>2009-2010</td>\n",
       "      <td>382.452472</td>\n",
       "      <td>199.445511</td>\n",
       "      <td>2083</td>\n",
       "      <td>1045</td>\n",
       "    </tr>\n",
       "    <tr>\n",
       "      <th>1</th>\n",
       "      <td>2010-2011</td>\n",
       "      <td>393.586859</td>\n",
       "      <td>222.807847</td>\n",
       "      <td>46286</td>\n",
       "      <td>5839</td>\n",
       "    </tr>\n",
       "  </tbody>\n",
       "</table>\n",
       "</div>"
      ],
      "text/plain": [
       "   YearSheet         AOV  avg_items_per_order  n_orders  n_customers\n",
       "0  2009-2010  382.452472           199.445511      2083         1045\n",
       "1  2010-2011  393.586859           222.807847     46286         5839"
      ]
     },
     "execution_count": 6,
     "metadata": {},
     "output_type": "execute_result"
    }
   ],
   "source": [
    "# AOV, items_per_order, n_orders, n_customers\n",
    "order_stats = (\n",
    "    orders.groupby('YearSheet')\n",
    "    .agg(\n",
    "        AOV=('Revenue', 'mean'),\n",
    "        avg_items_per_order=('Items', 'mean'),\n",
    "        n_orders=('Invoice', 'nunique'),\n",
    "        n_customers=('Customer_ID', 'nunique')\n",
    "    )\n",
    "    .reset_index()\n",
    ")\n",
    "\n",
    "order_stats.head()"
   ]
  },
  {
   "cell_type": "code",
   "execution_count": 7,
   "id": "76b97907-e063-404b-af68-ac59a40f9592",
   "metadata": {},
   "outputs": [
    {
     "data": {
      "application/vnd.microsoft.datawrangler.viewer.v0+json": {
       "columns": [
        {
         "name": "index",
         "rawType": "int64",
         "type": "integer"
        },
        {
         "name": "YearSheet",
         "rawType": "object",
         "type": "string"
        },
        {
         "name": "avg_orders_per_customer",
         "rawType": "float64",
         "type": "float"
        }
       ],
       "ref": "6db0530f-4747-438f-adcd-8b110635d7d6",
       "rows": [
        [
         "0",
         "2009-2010",
         "1.8181818181818181"
        ],
        [
         "1",
         "2010-2011",
         "7.359136838499743"
        ]
       ],
       "shape": {
        "columns": 2,
        "rows": 2
       }
      },
      "text/html": [
       "<div>\n",
       "<style scoped>\n",
       "    .dataframe tbody tr th:only-of-type {\n",
       "        vertical-align: middle;\n",
       "    }\n",
       "\n",
       "    .dataframe tbody tr th {\n",
       "        vertical-align: top;\n",
       "    }\n",
       "\n",
       "    .dataframe thead th {\n",
       "        text-align: right;\n",
       "    }\n",
       "</style>\n",
       "<table border=\"1\" class=\"dataframe\">\n",
       "  <thead>\n",
       "    <tr style=\"text-align: right;\">\n",
       "      <th></th>\n",
       "      <th>YearSheet</th>\n",
       "      <th>avg_orders_per_customer</th>\n",
       "    </tr>\n",
       "  </thead>\n",
       "  <tbody>\n",
       "    <tr>\n",
       "      <th>0</th>\n",
       "      <td>2009-2010</td>\n",
       "      <td>1.818182</td>\n",
       "    </tr>\n",
       "    <tr>\n",
       "      <th>1</th>\n",
       "      <td>2010-2011</td>\n",
       "      <td>7.359137</td>\n",
       "    </tr>\n",
       "  </tbody>\n",
       "</table>\n",
       "</div>"
      ],
      "text/plain": [
       "   YearSheet  avg_orders_per_customer\n",
       "0  2009-2010                 1.818182\n",
       "1  2010-2011                 7.359137"
      ]
     },
     "execution_count": 7,
     "metadata": {},
     "output_type": "execute_result"
    }
   ],
   "source": [
    "# avg_orders_per_customer\n",
    "orders_per_customer = (\n",
    "    orders.dropna(subset=['Customer_ID'])\n",
    "    .groupby(['YearSheet', 'Customer_ID'])\n",
    "    .agg(n_orders=('Invoice', 'nunique'))\n",
    "    .groupby('YearSheet')['n_orders'].mean()\n",
    "    .reset_index()\n",
    "    .rename(columns={'n_orders': 'avg_orders_per_customer'})\n",
    ")\n",
    "orders_per_customer.head()"
   ]
  },
  {
   "cell_type": "code",
   "execution_count": 8,
   "id": "2a306465-01b2-4b63-9edd-3b43e9ba68c6",
   "metadata": {},
   "outputs": [
    {
     "data": {
      "application/vnd.microsoft.datawrangler.viewer.v0+json": {
       "columns": [
        {
         "name": "index",
         "rawType": "int64",
         "type": "integer"
        },
        {
         "name": "YearSheet",
         "rawType": "object",
         "type": "string"
        },
        {
         "name": "AOV",
         "rawType": "float64",
         "type": "float"
        },
        {
         "name": "avg_items_per_order",
         "rawType": "float64",
         "type": "float"
        },
        {
         "name": "n_orders",
         "rawType": "int64",
         "type": "integer"
        },
        {
         "name": "n_customers",
         "rawType": "int64",
         "type": "integer"
        },
        {
         "name": "avg_orders_per_customer",
         "rawType": "float64",
         "type": "float"
        }
       ],
       "ref": "29d111ff-d403-4805-a770-1fcbaa5e45c0",
       "rows": [
        [
         "0",
         "2009-2010",
         "382.4524723955833",
         "199.4455112818051",
         "2083",
         "1045",
         "1.8181818181818181"
        ],
        [
         "1",
         "2010-2011",
         "393.58685861815667",
         "222.8078468651428",
         "46286",
         "5839",
         "7.359136838499743"
        ]
       ],
       "shape": {
        "columns": 6,
        "rows": 2
       }
      },
      "text/html": [
       "<div>\n",
       "<style scoped>\n",
       "    .dataframe tbody tr th:only-of-type {\n",
       "        vertical-align: middle;\n",
       "    }\n",
       "\n",
       "    .dataframe tbody tr th {\n",
       "        vertical-align: top;\n",
       "    }\n",
       "\n",
       "    .dataframe thead th {\n",
       "        text-align: right;\n",
       "    }\n",
       "</style>\n",
       "<table border=\"1\" class=\"dataframe\">\n",
       "  <thead>\n",
       "    <tr style=\"text-align: right;\">\n",
       "      <th></th>\n",
       "      <th>YearSheet</th>\n",
       "      <th>AOV</th>\n",
       "      <th>avg_items_per_order</th>\n",
       "      <th>n_orders</th>\n",
       "      <th>n_customers</th>\n",
       "      <th>avg_orders_per_customer</th>\n",
       "    </tr>\n",
       "  </thead>\n",
       "  <tbody>\n",
       "    <tr>\n",
       "      <th>0</th>\n",
       "      <td>2009-2010</td>\n",
       "      <td>382.452472</td>\n",
       "      <td>199.445511</td>\n",
       "      <td>2083</td>\n",
       "      <td>1045</td>\n",
       "      <td>1.818182</td>\n",
       "    </tr>\n",
       "    <tr>\n",
       "      <th>1</th>\n",
       "      <td>2010-2011</td>\n",
       "      <td>393.586859</td>\n",
       "      <td>222.807847</td>\n",
       "      <td>46286</td>\n",
       "      <td>5839</td>\n",
       "      <td>7.359137</td>\n",
       "    </tr>\n",
       "  </tbody>\n",
       "</table>\n",
       "</div>"
      ],
      "text/plain": [
       "   YearSheet         AOV  avg_items_per_order  n_orders  n_customers  \\\n",
       "0  2009-2010  382.452472           199.445511      2083         1045   \n",
       "1  2010-2011  393.586859           222.807847     46286         5839   \n",
       "\n",
       "   avg_orders_per_customer  \n",
       "0                 1.818182  \n",
       "1                 7.359137  "
      ]
     },
     "execution_count": 8,
     "metadata": {},
     "output_type": "execute_result"
    }
   ],
   "source": [
    "# combine the tables\n",
    "order_stats = order_stats.merge(orders_per_customer, on='YearSheet', how='left')\n",
    "order_stats.head()"
   ]
  },
  {
   "cell_type": "code",
   "execution_count": 9,
   "id": "df327d53-c653-4fbf-9328-2ed8aec14c6a",
   "metadata": {},
   "outputs": [],
   "source": [
    "# Get classify 'New' and 'Repeat'\n",
    "first_purchase = (\n",
    "    data.dropna(subset=['Customer ID'])\n",
    "    .groupby('Customer ID')['Invoice']\n",
    "    .min()\n",
    "    .reset_index()\n",
    "    .rename(columns={'Invoice': 'FirstInvoice'})\n",
    ")\n",
    "\n",
    "# Attach to orders\n",
    "data = data.merge(first_purchase, on='Customer ID', how='left')\n",
    "\n",
    "# Customer type per YearSheet\n",
    "data['CustomerType'] = np.where(\n",
    "    data['Invoice'] == data['FirstInvoice'],\n",
    "    'New',\n",
    "    'Repeat'\n",
    ")"
   ]
  },
  {
   "cell_type": "code",
   "execution_count": 10,
   "id": "552b81ee-63d5-4fb7-95f3-ccd8782e8719",
   "metadata": {},
   "outputs": [
    {
     "data": {
      "application/vnd.microsoft.datawrangler.viewer.v0+json": {
       "columns": [
        {
         "name": "index",
         "rawType": "int64",
         "type": "integer"
        },
        {
         "name": "Customer ID",
         "rawType": "float64",
         "type": "float"
        },
        {
         "name": "FirstInvoice",
         "rawType": "object",
         "type": "string"
        }
       ],
       "ref": "7f2b0e02-b3d6-44b2-b2fc-53f31b19df4b",
       "rows": [
        [
         "0",
         "12346.0",
         "491725"
        ],
        [
         "1",
         "12347.0",
         "529924"
        ],
        [
         "2",
         "12348.0",
         "524140"
        ],
        [
         "3",
         "12349.0",
         "506394"
        ],
        [
         "4",
         "12350.0",
         "543037"
        ]
       ],
       "shape": {
        "columns": 2,
        "rows": 5
       }
      },
      "text/html": [
       "<div>\n",
       "<style scoped>\n",
       "    .dataframe tbody tr th:only-of-type {\n",
       "        vertical-align: middle;\n",
       "    }\n",
       "\n",
       "    .dataframe tbody tr th {\n",
       "        vertical-align: top;\n",
       "    }\n",
       "\n",
       "    .dataframe thead th {\n",
       "        text-align: right;\n",
       "    }\n",
       "</style>\n",
       "<table border=\"1\" class=\"dataframe\">\n",
       "  <thead>\n",
       "    <tr style=\"text-align: right;\">\n",
       "      <th></th>\n",
       "      <th>Customer ID</th>\n",
       "      <th>FirstInvoice</th>\n",
       "    </tr>\n",
       "  </thead>\n",
       "  <tbody>\n",
       "    <tr>\n",
       "      <th>0</th>\n",
       "      <td>12346.0</td>\n",
       "      <td>491725</td>\n",
       "    </tr>\n",
       "    <tr>\n",
       "      <th>1</th>\n",
       "      <td>12347.0</td>\n",
       "      <td>529924</td>\n",
       "    </tr>\n",
       "    <tr>\n",
       "      <th>2</th>\n",
       "      <td>12348.0</td>\n",
       "      <td>524140</td>\n",
       "    </tr>\n",
       "    <tr>\n",
       "      <th>3</th>\n",
       "      <td>12349.0</td>\n",
       "      <td>506394</td>\n",
       "    </tr>\n",
       "    <tr>\n",
       "      <th>4</th>\n",
       "      <td>12350.0</td>\n",
       "      <td>543037</td>\n",
       "    </tr>\n",
       "  </tbody>\n",
       "</table>\n",
       "</div>"
      ],
      "text/plain": [
       "   Customer ID FirstInvoice\n",
       "0      12346.0       491725\n",
       "1      12347.0       529924\n",
       "2      12348.0       524140\n",
       "3      12349.0       506394\n",
       "4      12350.0       543037"
      ]
     },
     "execution_count": 10,
     "metadata": {},
     "output_type": "execute_result"
    }
   ],
   "source": [
    "first_purchase.head()"
   ]
  },
  {
   "cell_type": "code",
   "execution_count": 11,
   "id": "c375f521-bca6-4437-b177-0ede37903edb",
   "metadata": {},
   "outputs": [
    {
     "data": {
      "application/vnd.microsoft.datawrangler.viewer.v0+json": {
       "columns": [
        {
         "name": "CustomerType",
         "rawType": "object",
         "type": "string"
        },
        {
         "name": "count",
         "rawType": "int64",
         "type": "integer"
        }
       ],
       "ref": "a1930749-2eac-404f-ac4b-7fb039b4496b",
       "rows": [
        [
         "Repeat",
         "883341"
        ],
        [
         "New",
         "143676"
        ]
       ],
       "shape": {
        "columns": 1,
        "rows": 2
       }
      },
      "text/plain": [
       "CustomerType\n",
       "Repeat    883341\n",
       "New       143676\n",
       "Name: count, dtype: int64"
      ]
     },
     "execution_count": 11,
     "metadata": {},
     "output_type": "execute_result"
    }
   ],
   "source": [
    "data['CustomerType'].value_counts()"
   ]
  },
  {
   "cell_type": "code",
   "execution_count": 12,
   "id": "1b1c21cf-de34-4972-a04f-31f6031cb4d4",
   "metadata": {},
   "outputs": [],
   "source": [
    "y1 = data[(data['YearSheet'] == '2009-2010')]['CustomerType'].value_counts()\n",
    "y2 = data[(data['YearSheet'] == '2010-2011')]['CustomerType'].value_counts()"
   ]
  },
  {
   "cell_type": "code",
   "execution_count": 13,
   "id": "11e41720-69ec-498d-94d7-306a56c284dd",
   "metadata": {},
   "outputs": [
    {
     "data": {
      "application/vnd.microsoft.datawrangler.viewer.v0+json": {
       "columns": [
        {
         "name": "CustomerType",
         "rawType": "object",
         "type": "string"
        },
        {
         "name": "count",
         "rawType": "int64",
         "type": "integer"
        }
       ],
       "ref": "541ea273-ad45-49e7-bd8e-bf8ab9cf256b",
       "rows": [
        [
         "Repeat",
         "859777"
        ],
        [
         "New",
         "122774"
        ]
       ],
       "shape": {
        "columns": 1,
        "rows": 2
       }
      },
      "text/plain": [
       "CustomerType\n",
       "Repeat    859777\n",
       "New       122774\n",
       "Name: count, dtype: int64"
      ]
     },
     "execution_count": 13,
     "metadata": {},
     "output_type": "execute_result"
    }
   ],
   "source": [
    "y2"
   ]
  },
  {
   "cell_type": "code",
   "execution_count": 14,
   "id": "8aa6ef02-7a8a-4470-8e3f-cfdc3e14ca9c",
   "metadata": {},
   "outputs": [
    {
     "data": {
      "image/png": "[encoded data removed]",
      "text/plain": [
       "<Figure size 640x480 with 2 Axes>"
      ]
     },
     "metadata": {},
     "output_type": "display_data"
    }
   ],
   "source": [
    "import warnings\n",
    "warnings.filterwarnings(\"ignore\")\n",
    "\n",
    "labels = ['Repeat', 'New']\n",
    "\n",
    "fig, ax = plt.subplots(1, 2)\n",
    "\n",
    "ax[0].set_title('2009-2010')\n",
    "ax[0].bar(x=labels, height=y1)\n",
    "\n",
    "ax[1].set_title('2010-2011')\n",
    "ax[1].bar(x=labels, height=y2);\n",
    "\n",
    "fig.suptitle('New vs Repeat Revenue by YearSheet', fontsize=14)\n",
    "plt.tight_layout(rect=[0, 0, 1, 0.95])  # leave room for suptitle\n",
    "plt.show()"
   ]
  },
  {
   "cell_type": "markdown",
   "id": "aa029405",
   "metadata": {},
   "source": [
    "## 6) Product & country profiles\n",
    "- Top 10 products by revenue (exclude returns; show ``StockCode, Description, Revenue, Quantity``).\n",
    "- Top 10 countries by revenue and share of total (show UK vs non-UK split).\n",
    "- Return-prone products: top items by return rate = (abs(negative Qty) / total Qty), min 200 units sold threshold.\n",
    "\n",
    "Outputs:\n",
    "- Two ranked tables (products & countries).\n",
    "- One chart: UK vs Rest-of-World revenue share."
   ]
  },
  {
   "cell_type": "code",
   "execution_count": 15,
   "id": "e5e5a520",
   "metadata": {},
   "outputs": [],
   "source": [
    "# Insert code for product & country profiles here\n",
    "top_products = (\n",
    "    data.loc[~data['Is_Return']]\n",
    "    .groupby(['StockCode', 'Description'], as_index=False)\n",
    "    .agg({'Revenue': 'sum', 'Quantity': 'sum'})\n",
    "    .sort_values('Revenue', ascending=False)\n",
    ")\n",
    "\n",
    "top_ten_products = top_products.head(10)"
   ]
  },
  {
   "cell_type": "code",
   "execution_count": 16,
   "id": "f321b7cd-836f-4559-a108-02e153bbd959",
   "metadata": {},
   "outputs": [
    {
     "data": {
      "application/vnd.microsoft.datawrangler.viewer.v0+json": {
       "columns": [
        {
         "name": "index",
         "rawType": "int64",
         "type": "integer"
        },
        {
         "name": "Country",
         "rawType": "object",
         "type": "string"
        },
        {
         "name": "Revenue",
         "rawType": "float64",
         "type": "float"
        },
        {
         "name": "Share",
         "rawType": "float64",
         "type": "float"
        }
       ],
       "ref": "81edcb28-5e09-4214-a3e6-84cf393078a3",
       "rows": [
        [
         "40",
         "United Kingdom",
         "17410569.687",
         "0.8502652179892077"
        ],
        [
         "11",
         "EIRE",
         "658767.31",
         "0.03217166011859713"
        ],
        [
         "26",
         "Netherlands",
         "554038.09",
         "0.027057088069893338"
        ],
        [
         "15",
         "Germany",
         "425019.711",
         "0.02075632697377831"
        ],
        [
         "14",
         "France",
         "350456.09",
         "0.017114926686286978"
        ],
        [
         "0",
         "Australia",
         "169283.46",
         "0.008267152689802007"
        ],
        [
         "34",
         "Spain",
         "108332.49",
         "0.005290541888123323"
        ],
        [
         "36",
         "Switzerland",
         "100685.59",
         "0.004917096721633655"
        ],
        [
         "35",
         "Sweden",
         "91869.82",
         "0.004486568442803722"
        ],
        [
         "10",
         "Denmark",
         "68580.69",
         "0.0033492169630865154"
        ]
       ],
       "shape": {
        "columns": 3,
        "rows": 10
       }
      },
      "text/html": [
       "<div>\n",
       "<style scoped>\n",
       "    .dataframe tbody tr th:only-of-type {\n",
       "        vertical-align: middle;\n",
       "    }\n",
       "\n",
       "    .dataframe tbody tr th {\n",
       "        vertical-align: top;\n",
       "    }\n",
       "\n",
       "    .dataframe thead th {\n",
       "        text-align: right;\n",
       "    }\n",
       "</style>\n",
       "<table border=\"1\" class=\"dataframe\">\n",
       "  <thead>\n",
       "    <tr style=\"text-align: right;\">\n",
       "      <th></th>\n",
       "      <th>Country</th>\n",
       "      <th>Revenue</th>\n",
       "      <th>Share</th>\n",
       "    </tr>\n",
       "  </thead>\n",
       "  <tbody>\n",
       "    <tr>\n",
       "      <th>40</th>\n",
       "      <td>United Kingdom</td>\n",
       "      <td>1.741057e+07</td>\n",
       "      <td>0.850265</td>\n",
       "    </tr>\n",
       "    <tr>\n",
       "      <th>11</th>\n",
       "      <td>EIRE</td>\n",
       "      <td>6.587673e+05</td>\n",
       "      <td>0.032172</td>\n",
       "    </tr>\n",
       "    <tr>\n",
       "      <th>26</th>\n",
       "      <td>Netherlands</td>\n",
       "      <td>5.540381e+05</td>\n",
       "      <td>0.027057</td>\n",
       "    </tr>\n",
       "    <tr>\n",
       "      <th>15</th>\n",
       "      <td>Germany</td>\n",
       "      <td>4.250197e+05</td>\n",
       "      <td>0.020756</td>\n",
       "    </tr>\n",
       "    <tr>\n",
       "      <th>14</th>\n",
       "      <td>France</td>\n",
       "      <td>3.504561e+05</td>\n",
       "      <td>0.017115</td>\n",
       "    </tr>\n",
       "    <tr>\n",
       "      <th>0</th>\n",
       "      <td>Australia</td>\n",
       "      <td>1.692835e+05</td>\n",
       "      <td>0.008267</td>\n",
       "    </tr>\n",
       "    <tr>\n",
       "      <th>34</th>\n",
       "      <td>Spain</td>\n",
       "      <td>1.083325e+05</td>\n",
       "      <td>0.005291</td>\n",
       "    </tr>\n",
       "    <tr>\n",
       "      <th>36</th>\n",
       "      <td>Switzerland</td>\n",
       "      <td>1.006856e+05</td>\n",
       "      <td>0.004917</td>\n",
       "    </tr>\n",
       "    <tr>\n",
       "      <th>35</th>\n",
       "      <td>Sweden</td>\n",
       "      <td>9.186982e+04</td>\n",
       "      <td>0.004487</td>\n",
       "    </tr>\n",
       "    <tr>\n",
       "      <th>10</th>\n",
       "      <td>Denmark</td>\n",
       "      <td>6.858069e+04</td>\n",
       "      <td>0.003349</td>\n",
       "    </tr>\n",
       "  </tbody>\n",
       "</table>\n",
       "</div>"
      ],
      "text/plain": [
       "           Country       Revenue     Share\n",
       "40  United Kingdom  1.741057e+07  0.850265\n",
       "11            EIRE  6.587673e+05  0.032172\n",
       "26     Netherlands  5.540381e+05  0.027057\n",
       "15         Germany  4.250197e+05  0.020756\n",
       "14          France  3.504561e+05  0.017115\n",
       "0        Australia  1.692835e+05  0.008267\n",
       "34           Spain  1.083325e+05  0.005291\n",
       "36     Switzerland  1.006856e+05  0.004917\n",
       "35          Sweden  9.186982e+04  0.004487\n",
       "10         Denmark  6.858069e+04  0.003349"
      ]
     },
     "execution_count": 16,
     "metadata": {},
     "output_type": "execute_result"
    }
   ],
   "source": [
    "country_revenue = (\n",
    "    data.loc[~data['Is_Return']]\n",
    "    .groupby('Country', as_index=False)['Revenue']\n",
    "    .sum()\n",
    "    .sort_values('Revenue', ascending=False)\n",
    ")\n",
    "\n",
    "# Compute share of total revenue\n",
    "total_revenue = country_revenue['Revenue'].sum()\n",
    "country_revenue['Share'] = country_revenue['Revenue'] / total_revenue\n",
    "\n",
    "top_countries = country_revenue.head(10)\n",
    "\n",
    "top_countries"
   ]
  },
  {
   "cell_type": "code",
   "execution_count": 17,
   "id": "baf55011-e519-47fc-9bfa-1fbd6a72654b",
   "metadata": {},
   "outputs": [
    {
     "data": {
      "image/png": "[encoded data removed]",
      "text/plain": [
       "<Figure size 640x480 with 1 Axes>"
      ]
     },
     "metadata": {},
     "output_type": "display_data"
    }
   ],
   "source": [
    "comparison = (\n",
    "    data.loc[~data['Is_Return']]\n",
    "    .assign(Group=lambda x: x['Country'].where(x['Country'] == 'United Kingdom', 'Non-UK'))\n",
    "    .groupby('Group', as_index=False)['Revenue']\n",
    "    .sum()\n",
    ")\n",
    "\n",
    "plt.bar(comparison['Group'], comparison['Revenue'])\n",
    "plt.title(\"Non-UK vs UK\")\n",
    "plt.ylabel(\"Revenue\")\n",
    "plt.show()"
   ]
  },
  {
   "cell_type": "code",
   "execution_count": 18,
   "id": "4c82845a-6292-4e19-a589-01bd45edd258",
   "metadata": {},
   "outputs": [
    {
     "data": {
      "application/vnd.microsoft.datawrangler.viewer.v0+json": {
       "columns": [
        {
         "name": "StockCode",
         "rawType": "object",
         "type": "string"
        },
        {
         "name": "TotalQty",
         "rawType": "float64",
         "type": "float"
        },
        {
         "name": "ReturnQty",
         "rawType": "float64",
         "type": "float"
        },
        {
         "name": "ReturnRate",
         "rawType": "float64",
         "type": "float"
        }
       ],
       "ref": "4d37adb0-fa33-44e3-b689-a11324c322ff",
       "rows": [
        [
         "79323B",
         "242.0",
         "248.0",
         "1.024793388429752"
        ],
        [
         "23843",
         "80995.0",
         "80995.0",
         "1.0"
        ],
        [
         "20715",
         "400.0",
         "400.0",
         "1.0"
        ],
        [
         "23166",
         "78033.0",
         "74494.0",
         "0.9546473927697257"
        ],
        [
         "72045D",
         "539.0",
         "504.0",
         "0.935064935064935"
        ]
       ],
       "shape": {
        "columns": 3,
        "rows": 5
       }
      },
      "text/html": [
       "<div>\n",
       "<style scoped>\n",
       "    .dataframe tbody tr th:only-of-type {\n",
       "        vertical-align: middle;\n",
       "    }\n",
       "\n",
       "    .dataframe tbody tr th {\n",
       "        vertical-align: top;\n",
       "    }\n",
       "\n",
       "    .dataframe thead th {\n",
       "        text-align: right;\n",
       "    }\n",
       "</style>\n",
       "<table border=\"1\" class=\"dataframe\">\n",
       "  <thead>\n",
       "    <tr style=\"text-align: right;\">\n",
       "      <th></th>\n",
       "      <th>TotalQty</th>\n",
       "      <th>ReturnQty</th>\n",
       "      <th>ReturnRate</th>\n",
       "    </tr>\n",
       "    <tr>\n",
       "      <th>StockCode</th>\n",
       "      <th></th>\n",
       "      <th></th>\n",
       "      <th></th>\n",
       "    </tr>\n",
       "  </thead>\n",
       "  <tbody>\n",
       "    <tr>\n",
       "      <th>79323B</th>\n",
       "      <td>242.0</td>\n",
       "      <td>248.0</td>\n",
       "      <td>1.024793</td>\n",
       "    </tr>\n",
       "    <tr>\n",
       "      <th>23843</th>\n",
       "      <td>80995.0</td>\n",
       "      <td>80995.0</td>\n",
       "      <td>1.000000</td>\n",
       "    </tr>\n",
       "    <tr>\n",
       "      <th>20715</th>\n",
       "      <td>400.0</td>\n",
       "      <td>400.0</td>\n",
       "      <td>1.000000</td>\n",
       "    </tr>\n",
       "    <tr>\n",
       "      <th>23166</th>\n",
       "      <td>78033.0</td>\n",
       "      <td>74494.0</td>\n",
       "      <td>0.954647</td>\n",
       "    </tr>\n",
       "    <tr>\n",
       "      <th>72045D</th>\n",
       "      <td>539.0</td>\n",
       "      <td>504.0</td>\n",
       "      <td>0.935065</td>\n",
       "    </tr>\n",
       "  </tbody>\n",
       "</table>\n",
       "</div>"
      ],
      "text/plain": [
       "           TotalQty  ReturnQty  ReturnRate\n",
       "StockCode                                 \n",
       "79323B        242.0      248.0    1.024793\n",
       "23843       80995.0    80995.0    1.000000\n",
       "20715         400.0      400.0    1.000000\n",
       "23166       78033.0    74494.0    0.954647\n",
       "72045D        539.0      504.0    0.935065"
      ]
     },
     "execution_count": 18,
     "metadata": {},
     "output_type": "execute_result"
    }
   ],
   "source": [
    "# Separate returns vs sales\n",
    "returns = data.loc[data['Is_Return']].groupby('StockCode')['Quantity'].sum().abs()\n",
    "sales = data.loc[~data['Is_Return']].groupby('StockCode')['Quantity'].sum()\n",
    "\n",
    "# Merge & compute return rate\n",
    "return_prone = (\n",
    "    pd.concat([sales, returns], axis=1, keys=['TotalQty', 'ReturnQty'])\n",
    "    .fillna(0)\n",
    "    .query(\"TotalQty >= 200\")\n",
    "    .assign(ReturnRate=lambda x: x['ReturnQty'] / x['TotalQty'])\n",
    "    .sort_values('ReturnRate', ascending=False)\n",
    ")\n",
    "\n",
    "return_prone.head()"
   ]
  },
  {
   "cell_type": "markdown",
   "id": "c43497b4",
   "metadata": {},
   "source": [
    "## 7) Time-series EDA\n",
    "- Monthly revenue line for the full period (net of returns). Annotate visible spikes/dips.\n",
    "- Seasonality: average revenue by Month (1–12) over the two years.\n",
    "- Intra-day pattern: average revenue by Hour (optional if time granularity is adequate).\n",
    "\n",
    "Outputs:\n",
    "- Line chart: monthly revenue (with returns accounted for).\n",
    "- Bar/line: revenue by month number (seasonality).\n",
    "- Line: revenue by hour."
   ]
  },
  {
   "cell_type": "code",
   "execution_count": 19,
   "id": "df6c7455",
   "metadata": {},
   "outputs": [
    {
     "data": {
      "image/png": "[encoded data removed]",
      "text/plain": [
       "<Figure size 1400x700 with 1 Axes>"
      ]
     },
     "metadata": {},
     "output_type": "display_data"
    }
   ],
   "source": [
    "import matplotlib.dates as mdates\n",
    "\n",
    "monthly_revenue = (\n",
    "    data.groupby(pd.Grouper(key='InvoiceDate', freq='M'))['Revenue']\n",
    "    .sum()\n",
    "    .reset_index()\n",
    ")\n",
    "\n",
    "plt.figure(figsize=(14,7))\n",
    "plt.plot(monthly_revenue['InvoiceDate'], monthly_revenue['Revenue'], marker='o')\n",
    "plt.title(\"Monthly Revenue (Net of Returns)\", fontsize=14)\n",
    "plt.xlabel(\"Month\")\n",
    "plt.ylabel(\"Revenue\")\n",
    "plt.grid(True)\n",
    "\n",
    "plt.gca().xaxis.set_major_formatter(mdates.DateFormatter('%Y-%m'))\n",
    "plt.gca().xaxis.set_major_locator(mdates.MonthLocator(interval=1))  \n",
    "plt.xticks(rotation=70)  \n",
    "\n",
    "for i in monthly_revenue.itertuples():\n",
    "    plt.annotate(f\"{i.Revenue:,.0f}\", \n",
    "                 (i.InvoiceDate, i.Revenue), \n",
    "                 textcoords=\"offset points\", \n",
    "                 xytext=(0,10), \n",
    "                 ha='center', \n",
    "                 fontsize=8, \n",
    "                 color=\"red\")\n",
    "plt.show()\n",
    "\n",
    "\n",
    "\n"
   ]
  },
  {
   "cell_type": "code",
   "execution_count": 20,
   "id": "410a84f6",
   "metadata": {},
   "outputs": [
    {
     "data": {
      "image/png": "[encoded data removed]",
      "text/plain": [
       "<Figure size 1000x500 with 1 Axes>"
      ]
     },
     "metadata": {},
     "output_type": "display_data"
    }
   ],
   "source": [
    "# Seasonality: Average revenue by Month (1–12)\n",
    "monthly_revenue['MonthNum'] = monthly_revenue['InvoiceDate'].dt.month\n",
    "seasonality = monthly_revenue.groupby('MonthNum')['Revenue'].mean().reset_index()\n",
    "\n",
    "plt.figure(figsize=(10,5))\n",
    "bars = plt.bar(seasonality['MonthNum'], seasonality['Revenue'], color='skyblue')\n",
    "plt.title(\"Average Revenue by Month (Seasonality)\", fontsize=14)\n",
    "plt.xlabel(\"Month Number (1-12)\")\n",
    "plt.ylabel(\"Average Revenue\")\n",
    "plt.xticks(range(1,13))\n",
    "\n",
    "for bar in bars:\n",
    "    height = bar.get_height()\n",
    "    plt.text(\n",
    "        bar.get_x() + bar.get_width()/2,   # x position (center of bar)\n",
    "        height,                            # y position (top of bar)\n",
    "        f\"{height:,.0f}\",                  # formatted value\n",
    "        ha='center', va='bottom', fontsize=9, color=\"black\"\n",
    "    )\n",
    "plt.show()"
   ]
  },
  {
   "cell_type": "code",
   "execution_count": 21,
   "id": "3d0d042f",
   "metadata": {},
   "outputs": [
    {
     "data": {
      "image/png": "[encoded data removed]",
      "text/plain": [
       "<Figure size 1000x500 with 1 Axes>"
      ]
     },
     "metadata": {},
     "output_type": "display_data"
    }
   ],
   "source": [
    "# Intra-day pattern: Average revenue by Hour\n",
    "data['Hour'] = data['InvoiceDate'].dt.hour\n",
    "\n",
    "hourly = (\n",
    "    data.groupby('Hour')['Revenue']\n",
    "    .mean()\n",
    "    .reset_index()\n",
    ")\n",
    "\n",
    "plt.figure(figsize=(10,5))\n",
    "plt.plot(hourly['Hour'], hourly['Revenue'], marker='o', color='green', linewidth=2)\n",
    "plt.title(\"Average Revenue by Hour of Day\", fontsize=14)\n",
    "plt.xlabel(\"Hour of Day (0–23)\")\n",
    "plt.ylabel(\"Average Revenue\")\n",
    "plt.xticks(range(0,24))\n",
    "plt.grid(True, linestyle=\"--\", alpha=0.7)\n",
    "\n",
    "# Annotate each point with its value\n",
    "for i in hourly.itertuples():\n",
    "    plt.annotate(f\"{i.Revenue:,.0f}\",\n",
    "                 (i.Hour, i.Revenue),\n",
    "                 textcoords=\"offset points\",\n",
    "                 xytext=(0,8),\n",
    "                 ha='center',\n",
    "                 fontsize=8,\n",
    "                 color=\"black\")\n",
    "\n",
    "plt.show()\n"
   ]
  },
  {
   "cell_type": "markdown",
   "id": "26248b10",
   "metadata": {},
   "source": [
    "## 8) Returns analysis\n",
    "- Overall return rate = (sum of negative Quantity) / (sum of abs(Quantity)).\n",
    "- Return impact on revenue (sum of negative Revenue vs net revenue).\n",
    "- Returns by Country and Top 10 products (from §6).\n",
    "\n",
    "Outputs:\n",
    "- Table: return rate & revenue impact (overall, by country).\n",
    "- Short paragraph: business impact & hypotheses (e.g., product quality, shipping damages, wrong descriptions)."
   ]
  },
  {
   "cell_type": "code",
   "execution_count": 22,
   "id": "c9a0d1da",
   "metadata": {},
   "outputs": [
    {
     "data": {
      "application/vnd.microsoft.datawrangler.viewer.v0+json": {
       "columns": [
        {
         "name": "index",
         "rawType": "object",
         "type": "string"
        },
        {
         "name": "Return Rate",
         "rawType": "object",
         "type": "string"
        },
        {
         "name": "Revenue Impact",
         "rawType": "object",
         "type": "string"
        }
       ],
       "ref": "fd838f5a-1172-465a-8d94-20b14fc1d935",
       "rows": [
        [
         "Overall Return Metrics",
         "-4.08%",
         "-7.69%"
        ]
       ],
       "shape": {
        "columns": 2,
        "rows": 1
       }
      },
      "text/html": [
       "<div>\n",
       "<style scoped>\n",
       "    .dataframe tbody tr th:only-of-type {\n",
       "        vertical-align: middle;\n",
       "    }\n",
       "\n",
       "    .dataframe tbody tr th {\n",
       "        vertical-align: top;\n",
       "    }\n",
       "\n",
       "    .dataframe thead th {\n",
       "        text-align: right;\n",
       "    }\n",
       "</style>\n",
       "<table border=\"1\" class=\"dataframe\">\n",
       "  <thead>\n",
       "    <tr style=\"text-align: right;\">\n",
       "      <th></th>\n",
       "      <th>Return Rate</th>\n",
       "      <th>Revenue Impact</th>\n",
       "    </tr>\n",
       "  </thead>\n",
       "  <tbody>\n",
       "    <tr>\n",
       "      <th>Overall Return Metrics</th>\n",
       "      <td>-4.08%</td>\n",
       "      <td>-7.69%</td>\n",
       "    </tr>\n",
       "  </tbody>\n",
       "</table>\n",
       "</div>"
      ],
      "text/plain": [
       "                       Return Rate Revenue Impact\n",
       "Overall Return Metrics      -4.08%         -7.69%"
      ]
     },
     "metadata": {},
     "output_type": "display_data"
    },
    {
     "name": "stdout",
     "output_type": "stream",
     "text": [
      "📊 Returns by Country:\n"
     ]
    },
    {
     "data": {
      "application/vnd.microsoft.datawrangler.viewer.v0+json": {
       "columns": [
        {
         "name": "index",
         "rawType": "int64",
         "type": "integer"
        },
        {
         "name": "Country",
         "rawType": "object",
         "type": "string"
        },
        {
         "name": "ReturnRate",
         "rawType": "object",
         "type": "string"
        },
        {
         "name": "RevenueImpact",
         "rawType": "object",
         "type": "string"
        }
       ],
       "ref": "27d257ef-055a-4d27-bcdd-661a565b3613",
       "rows": [
        [
         "27",
         "Nigeria",
         "-31.33%",
         "2207.96%"
        ],
        [
         "14",
         "France",
         "-24.94%",
         "-8.93%"
        ],
        [
         "38",
         "USA",
         "-22.91%",
         "-33.09%"
        ],
        [
         "22",
         "Korea",
         "-12.72%",
         "-17.76%"
        ],
        [
         "9",
         "Czech Republic",
         "-10.53%",
         "-16.82%"
        ],
        [
         "34",
         "Spain",
         "-10.10%",
         "-19.03%"
        ],
        [
         "39",
         "United Arab Emirates",
         "-7.49%",
         "-11.55%"
        ],
        [
         "32",
         "Saudi Arabia",
         "-5.88%",
         "-11.24%"
        ],
        [
         "2",
         "Bahrain",
         "-4.56%",
         "-8.68%"
        ],
        [
         "21",
         "Japan",
         "-4.54%",
         "-8.48%"
        ]
       ],
       "shape": {
        "columns": 3,
        "rows": 10
       }
      },
      "text/html": [
       "<div>\n",
       "<style scoped>\n",
       "    .dataframe tbody tr th:only-of-type {\n",
       "        vertical-align: middle;\n",
       "    }\n",
       "\n",
       "    .dataframe tbody tr th {\n",
       "        vertical-align: top;\n",
       "    }\n",
       "\n",
       "    .dataframe thead th {\n",
       "        text-align: right;\n",
       "    }\n",
       "</style>\n",
       "<table border=\"1\" class=\"dataframe\">\n",
       "  <thead>\n",
       "    <tr style=\"text-align: right;\">\n",
       "      <th></th>\n",
       "      <th>Country</th>\n",
       "      <th>ReturnRate</th>\n",
       "      <th>RevenueImpact</th>\n",
       "    </tr>\n",
       "  </thead>\n",
       "  <tbody>\n",
       "    <tr>\n",
       "      <th>27</th>\n",
       "      <td>Nigeria</td>\n",
       "      <td>-31.33%</td>\n",
       "      <td>2207.96%</td>\n",
       "    </tr>\n",
       "    <tr>\n",
       "      <th>14</th>\n",
       "      <td>France</td>\n",
       "      <td>-24.94%</td>\n",
       "      <td>-8.93%</td>\n",
       "    </tr>\n",
       "    <tr>\n",
       "      <th>38</th>\n",
       "      <td>USA</td>\n",
       "      <td>-22.91%</td>\n",
       "      <td>-33.09%</td>\n",
       "    </tr>\n",
       "    <tr>\n",
       "      <th>22</th>\n",
       "      <td>Korea</td>\n",
       "      <td>-12.72%</td>\n",
       "      <td>-17.76%</td>\n",
       "    </tr>\n",
       "    <tr>\n",
       "      <th>9</th>\n",
       "      <td>Czech Republic</td>\n",
       "      <td>-10.53%</td>\n",
       "      <td>-16.82%</td>\n",
       "    </tr>\n",
       "    <tr>\n",
       "      <th>34</th>\n",
       "      <td>Spain</td>\n",
       "      <td>-10.10%</td>\n",
       "      <td>-19.03%</td>\n",
       "    </tr>\n",
       "    <tr>\n",
       "      <th>39</th>\n",
       "      <td>United Arab Emirates</td>\n",
       "      <td>-7.49%</td>\n",
       "      <td>-11.55%</td>\n",
       "    </tr>\n",
       "    <tr>\n",
       "      <th>32</th>\n",
       "      <td>Saudi Arabia</td>\n",
       "      <td>-5.88%</td>\n",
       "      <td>-11.24%</td>\n",
       "    </tr>\n",
       "    <tr>\n",
       "      <th>2</th>\n",
       "      <td>Bahrain</td>\n",
       "      <td>-4.56%</td>\n",
       "      <td>-8.68%</td>\n",
       "    </tr>\n",
       "    <tr>\n",
       "      <th>21</th>\n",
       "      <td>Japan</td>\n",
       "      <td>-4.54%</td>\n",
       "      <td>-8.48%</td>\n",
       "    </tr>\n",
       "  </tbody>\n",
       "</table>\n",
       "</div>"
      ],
      "text/plain": [
       "                 Country ReturnRate RevenueImpact\n",
       "27               Nigeria    -31.33%      2207.96%\n",
       "14                France    -24.94%        -8.93%\n",
       "38                   USA    -22.91%       -33.09%\n",
       "22                 Korea    -12.72%       -17.76%\n",
       "9         Czech Republic    -10.53%       -16.82%\n",
       "34                 Spain    -10.10%       -19.03%\n",
       "39  United Arab Emirates     -7.49%       -11.55%\n",
       "32          Saudi Arabia     -5.88%       -11.24%\n",
       "2                Bahrain     -4.56%        -8.68%\n",
       "21                 Japan     -4.54%        -8.48%"
      ]
     },
     "metadata": {},
     "output_type": "display_data"
    },
    {
     "name": "stdout",
     "output_type": "stream",
     "text": [
      "\n",
      "📊 Top 10 Returned Products:\n"
     ]
    },
    {
     "data": {
      "application/vnd.microsoft.datawrangler.viewer.v0+json": {
       "columns": [
        {
         "name": "index",
         "rawType": "int64",
         "type": "integer"
        },
        {
         "name": "StockCode",
         "rawType": "object",
         "type": "string"
        },
        {
         "name": "Description",
         "rawType": "object",
         "type": "string"
        },
        {
         "name": "ReturnQty",
         "rawType": "int64",
         "type": "integer"
        },
        {
         "name": "ReturnRev",
         "rawType": "float64",
         "type": "float"
        }
       ],
       "ref": "7266ee9d-f6af-467f-8c39-f26bfd5496c3",
       "rows": [
        [
         "2177",
         "23843",
         "PAPER CRAFT , LITTLE BIRDIE",
         "-80995",
         "-168469.6"
        ],
        [
         "1918",
         "23166",
         "MEDIUM CERAMIC TOP STORAGE JAR",
         "-74494",
         "-77479.64"
        ],
        [
         "2518",
         "84347",
         "ROTATING SILVER ANGELS T-LIGHT HLDR",
         "-9381",
         "-330.45000000000005"
        ],
        [
         "297",
         "21088",
         "SET/6 FRUIT SALAD PAPER CUPS",
         "-7140",
         "-572.52"
        ],
        [
         "301",
         "21096",
         "SET/6 FRUIT SALAD  PAPER PLATES",
         "-7008",
         "-911.0400000000001"
        ],
        [
         "3082",
         "M",
         "Manual",
         "-5444",
         "-422926.14"
        ],
        [
         "29",
         "16047",
         "POP ART PEN CASE & PENS",
         "-5184",
         "-414.72"
        ],
        [
         "2851",
         "85110",
         "BLACK SILVER FLOWER T-LIGHT HOLDER",
         "-5040",
         "-387.36"
        ],
        [
         "2223",
         "37340",
         "MULTICOLOUR SPRING FLOWER MUG",
         "-4996",
         "-501.2200000000001"
        ],
        [
         "28",
         "16046",
         "TEATIME PEN CASE & PENS",
         "-4632",
         "-389.03999999999996"
        ]
       ],
       "shape": {
        "columns": 4,
        "rows": 10
       }
      },
      "text/html": [
       "<div>\n",
       "<style scoped>\n",
       "    .dataframe tbody tr th:only-of-type {\n",
       "        vertical-align: middle;\n",
       "    }\n",
       "\n",
       "    .dataframe tbody tr th {\n",
       "        vertical-align: top;\n",
       "    }\n",
       "\n",
       "    .dataframe thead th {\n",
       "        text-align: right;\n",
       "    }\n",
       "</style>\n",
       "<table border=\"1\" class=\"dataframe\">\n",
       "  <thead>\n",
       "    <tr style=\"text-align: right;\">\n",
       "      <th></th>\n",
       "      <th>StockCode</th>\n",
       "      <th>Description</th>\n",
       "      <th>ReturnQty</th>\n",
       "      <th>ReturnRev</th>\n",
       "    </tr>\n",
       "  </thead>\n",
       "  <tbody>\n",
       "    <tr>\n",
       "      <th>2177</th>\n",
       "      <td>23843</td>\n",
       "      <td>PAPER CRAFT , LITTLE BIRDIE</td>\n",
       "      <td>-80995</td>\n",
       "      <td>-168469.60</td>\n",
       "    </tr>\n",
       "    <tr>\n",
       "      <th>1918</th>\n",
       "      <td>23166</td>\n",
       "      <td>MEDIUM CERAMIC TOP STORAGE JAR</td>\n",
       "      <td>-74494</td>\n",
       "      <td>-77479.64</td>\n",
       "    </tr>\n",
       "    <tr>\n",
       "      <th>2518</th>\n",
       "      <td>84347</td>\n",
       "      <td>ROTATING SILVER ANGELS T-LIGHT HLDR</td>\n",
       "      <td>-9381</td>\n",
       "      <td>-330.45</td>\n",
       "    </tr>\n",
       "    <tr>\n",
       "      <th>297</th>\n",
       "      <td>21088</td>\n",
       "      <td>SET/6 FRUIT SALAD PAPER CUPS</td>\n",
       "      <td>-7140</td>\n",
       "      <td>-572.52</td>\n",
       "    </tr>\n",
       "    <tr>\n",
       "      <th>301</th>\n",
       "      <td>21096</td>\n",
       "      <td>SET/6 FRUIT SALAD  PAPER PLATES</td>\n",
       "      <td>-7008</td>\n",
       "      <td>-911.04</td>\n",
       "    </tr>\n",
       "    <tr>\n",
       "      <th>3082</th>\n",
       "      <td>M</td>\n",
       "      <td>Manual</td>\n",
       "      <td>-5444</td>\n",
       "      <td>-422926.14</td>\n",
       "    </tr>\n",
       "    <tr>\n",
       "      <th>29</th>\n",
       "      <td>16047</td>\n",
       "      <td>POP ART PEN CASE &amp; PENS</td>\n",
       "      <td>-5184</td>\n",
       "      <td>-414.72</td>\n",
       "    </tr>\n",
       "    <tr>\n",
       "      <th>2851</th>\n",
       "      <td>85110</td>\n",
       "      <td>BLACK SILVER FLOWER T-LIGHT HOLDER</td>\n",
       "      <td>-5040</td>\n",
       "      <td>-387.36</td>\n",
       "    </tr>\n",
       "    <tr>\n",
       "      <th>2223</th>\n",
       "      <td>37340</td>\n",
       "      <td>MULTICOLOUR SPRING FLOWER MUG</td>\n",
       "      <td>-4996</td>\n",
       "      <td>-501.22</td>\n",
       "    </tr>\n",
       "    <tr>\n",
       "      <th>28</th>\n",
       "      <td>16046</td>\n",
       "      <td>TEATIME PEN CASE &amp; PENS</td>\n",
       "      <td>-4632</td>\n",
       "      <td>-389.04</td>\n",
       "    </tr>\n",
       "  </tbody>\n",
       "</table>\n",
       "</div>"
      ],
      "text/plain": [
       "     StockCode                          Description  ReturnQty  ReturnRev\n",
       "2177     23843          PAPER CRAFT , LITTLE BIRDIE     -80995 -168469.60\n",
       "1918     23166       MEDIUM CERAMIC TOP STORAGE JAR     -74494  -77479.64\n",
       "2518     84347  ROTATING SILVER ANGELS T-LIGHT HLDR      -9381    -330.45\n",
       "297      21088         SET/6 FRUIT SALAD PAPER CUPS      -7140    -572.52\n",
       "301      21096      SET/6 FRUIT SALAD  PAPER PLATES      -7008    -911.04\n",
       "3082         M                               Manual      -5444 -422926.14\n",
       "29       16047              POP ART PEN CASE & PENS      -5184    -414.72\n",
       "2851     85110   BLACK SILVER FLOWER T-LIGHT HOLDER      -5040    -387.36\n",
       "2223     37340        MULTICOLOUR SPRING FLOWER MUG      -4996    -501.22\n",
       "28       16046              TEATIME PEN CASE & PENS      -4632    -389.04"
      ]
     },
     "metadata": {},
     "output_type": "display_data"
    },
    {
     "name": "stdout",
     "output_type": "stream",
     "text": [
      "\n",
      "Overall return rate is -4.08%, meaning that roughly 476,820 items out of\n",
      "11,681,969 sold were returned. Returns reduced revenue by 7.69%,\n",
      "a significant drag on profitability. Countries with lower return rates may indicate stronger\n",
      "customer satisfaction, better shipping conditions, or product-market fit. Conversely, higher\n",
      "return rates in some regions could stem from shipping delays, damages, or mismatched expectations.\n",
      "At the product level, items with the highest return volumes may reveal issues in product quality,\n",
      "descriptions, or packaging. Addressing these issues can directly reduce returns and protect margins.\n",
      "\n"
     ]
    }
   ],
   "source": [
    "# Overall return rate\n",
    "total_returns_qty = data.loc[data['Quantity'] < 0, 'Quantity'].sum()\n",
    "total_abs_qty = data['Quantity'].abs().sum()\n",
    "return_rate = total_returns_qty / total_abs_qty\n",
    "\n",
    "# Return impact on revenue \n",
    "negative_revenue = data.loc[data['Revenue'] < 0, 'Revenue'].sum()\n",
    "net_revenue = data['Revenue'].sum()\n",
    "revenue_impact_pct = negative_revenue / net_revenue\n",
    "\n",
    "# Returns by Country\n",
    "returns_country = (\n",
    "    data.groupby('Country')\n",
    "        .agg(\n",
    "            ReturnQty=('Quantity', lambda x: x[x < 0].sum()),\n",
    "            TotalQty=('Quantity', lambda x: x.abs().sum()),\n",
    "            ReturnRev=('Revenue', lambda x: x[x < 0].sum()),\n",
    "            NetRev=('Revenue', 'sum')\n",
    "        )\n",
    "        .reset_index()\n",
    ")\n",
    "\n",
    "returns_country['ReturnRate'] = returns_country['ReturnQty'] / returns_country['TotalQty']\n",
    "returns_country['RevenueImpact'] = returns_country['ReturnRev'] / returns_country['NetRev']\n",
    "returns_country = returns_country.sort_values('ReturnRate', ascending=True)\n",
    "returns_country_display = returns_country.copy()\n",
    "returns_country_display['ReturnRate'] = (returns_country_display['ReturnRate'] * 100).map(\"{:.2f}%\".format)\n",
    "returns_country_display['RevenueImpact'] = (returns_country_display['RevenueImpact'] * 100).map(\"{:.2f}%\".format)\n",
    "\n",
    "# Top 10 returned products\n",
    "returns_products = (\n",
    "    data[data['Quantity'] < 0]\n",
    "    .groupby(['StockCode', 'Description'])\n",
    "    .agg(\n",
    "        ReturnQty=('Quantity', 'sum'),\n",
    "        ReturnRev=('Revenue', 'sum')\n",
    "    )\n",
    "    .reset_index()\n",
    "    .sort_values('ReturnQty', ascending=True)  # negative = more returns\n",
    "    .head(10)\n",
    ")\n",
    "\n",
    "\n",
    "overall_table = pd.DataFrame({\n",
    "    \"Return Rate\": [f\"{return_rate:.2%}\"],\n",
    "    \"Revenue Impact\": [f\"{revenue_impact_pct:.2%}\"]\n",
    "\n",
    "}, index=[\"Overall Return Metrics\"])\n",
    "display(overall_table)\n",
    "\n",
    "print(\"📊 Returns by Country:\")\n",
    "display(returns_country_display[['Country', 'ReturnRate', 'RevenueImpact']].head(10))\n",
    "\n",
    "print(\"\\n📊 Top 10 Returned Products:\")\n",
    "display(returns_products)\n",
    "\n",
    "# Short Business Impact Paragraph\n",
    "impact_text = f\"\"\"\n",
    "Overall return rate is {return_rate:.2%}, meaning that roughly {abs(total_returns_qty):,} items out of\n",
    "{total_abs_qty:,} sold were returned. Returns reduced revenue by {abs(revenue_impact_pct):.2%},\n",
    "a significant drag on profitability. Countries with lower return rates may indicate stronger\n",
    "customer satisfaction, better shipping conditions, or product-market fit. Conversely, higher\n",
    "return rates in some regions could stem from shipping delays, damages, or mismatched expectations.\n",
    "At the product level, items with the highest return volumes may reveal issues in product quality,\n",
    "descriptions, or packaging. Addressing these issues can directly reduce returns and protect margins.\n",
    "\"\"\"\n",
    "print(impact_text)\n"
   ]
  },
  {
   "cell_type": "markdown",
   "id": "f6151adf",
   "metadata": {},
   "source": [
    "## 9) Customer-level snapshots (where ``Customer ID`` is present)\n",
    "- RFM-style quick view (no need to segment):\n",
    "- Recency (days since last purchase at dataset end), Frequency (# invoices), Monetary (total net revenue).\n",
    "- Histograms for R, F, M with brief observations.\n",
    "\n",
    "Outputs:\n",
    "- Three small histograms + 3 bullets of commentary (e.g., “Most customers are low-frequency one-time buyers; long tail of high-value repeaters.”)"
   ]
  },
  {
   "cell_type": "code",
   "execution_count": 23,
   "id": "70427d4b",
   "metadata": {},
   "outputs": [
    {
     "data": {
      "image/png": "[encoded data removed]",
      "text/plain": [
       "<Figure size 1800x500 with 3 Axes>"
      ]
     },
     "metadata": {},
     "output_type": "display_data"
    }
   ],
   "source": [
    "from datetime import timedelta\n",
    "\n",
    "# Filter to customers with IDs\n",
    "cust_data = data.dropna(subset=['Customer ID']).copy()\n",
    "\n",
    "# Define dataset end date\n",
    "end_date = cust_data['InvoiceDate'].max() + timedelta(days=1)\n",
    "\n",
    "# Compute RFM\n",
    "rfm = (\n",
    "    cust_data.groupby('Customer ID')\n",
    "    .agg(\n",
    "        Recency=('InvoiceDate', lambda x: (end_date - x.max()).days),\n",
    "        Frequency=('Invoice', 'nunique'), \n",
    "        Monetary=('Revenue', 'sum')\n",
    "    )\n",
    "    .reset_index()\n",
    ")\n",
    "\n",
    "# Histograms\n",
    "fig, axes = plt.subplots(1, 3, figsize=(18,5))\n",
    "\n",
    "# Recency\n",
    "axes[0].hist(rfm['Recency'], bins=30, color='skyblue', edgecolor='black')\n",
    "axes[0].set_title(\"Recency (Days since last purchase)\")\n",
    "axes[0].set_xlabel(\"Days\")\n",
    "axes[0].set_ylabel(\"Number of Customers\")\n",
    "\n",
    "# Frequency\n",
    "axes[1].hist(rfm['Frequency'], bins=30, color='lightgreen', edgecolor='black')\n",
    "axes[1].set_title(\"Frequency (# of Invoices)\")\n",
    "axes[1].set_xlabel(\"Invoices\")\n",
    "axes[1].set_ylabel(\"Number of Customers\")\n",
    "\n",
    "# Monetary\n",
    "axes[2].hist(rfm['Monetary'], bins=30, color='salmon', edgecolor='black')\n",
    "axes[2].set_title(\"Monetary (Total Net Revenue)\")\n",
    "axes[2].set_xlabel(\"Revenue\")\n",
    "axes[2].set_ylabel(\"Number of Customers\")\n",
    "\n",
    "plt.tight_layout()\n",
    "plt.show()\n",
    "\n"
   ]
  },
  {
   "cell_type": "markdown",
   "id": "adf88b6b",
   "metadata": {},
   "source": [
    "## 10) Synthesis & recommendations\n",
    "- 5–7 clear insights (each backed by one plot/table).\n",
    "- 3 actions the retailer could test next month (e.g., “Increase stock for top product X in Country Y; reduce returns for StockCode Z via packaging or description clarity; run a weekend promo at the top revenue hour.”)"
   ]
  }
 ],
 "metadata": {
  "kernelspec": {
   "display_name": "Python 3",
   "language": "python",
   "name": "python3"
  },
  "language_info": {
   "codemirror_mode": {
    "name": "ipython",
    "version": 3
   },
   "file_extension": ".py",
   "mimetype": "text/x-python",
   "name": "python",
   "nbconvert_exporter": "python",
   "pygments_lexer": "ipython3",
   "version": "3.9.6"
  }
 },
 "nbformat": 4,
 "nbformat_minor": 5
}
