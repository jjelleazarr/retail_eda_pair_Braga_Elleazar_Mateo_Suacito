{
 "cells": [
  {
   "cell_type": "markdown",
   "id": "121fd4d8",
   "metadata": {},
   "source": [
    "</br>\n",
    "<h1 align=\"center\" style=\"color:green\">Case-Based Hands-On EDA Activity</br> UK-based Online Gift Retailer Dataset</h1>\n",
    "<div style=\"text-align:center\">Prepared by <b>Kirk T. Braga, Jan Vincent G. Elleazar, Michael Suacito, and Carl Jacob Mateo</b><br>\n",
    "CSELEC3C - Data Analysis and Visualization <br>\n",
    "<b>UST College of Information and Computing Sciences</b>\n",
    "</div>"
   ]
  },
  {
   "cell_type": "markdown",
   "id": "39b46e6a",
   "metadata": {},
   "source": [
    "***\n",
    "## Scenario\n",
    "You’ve been hired as a junior data-analytics duo at a UK-based online gift retailer. The CEO wants to understand what truly drives revenue and returns across two years of transactions to guide Q4 promotions and inventory buys. Your job is to clean, explore, and explain the dataset—surfacing patterns by product, country, customers, and time.\n",
    "\n",
    "## Learning Outcomes\n",
    "- Clean messy transaction data and build derived fields for retail EDA.\n",
    "- Summarize and visualize customers, orders, products, countries, and time.\n",
    "- Quantify returns and their impact on revenue and top products.\n",
    "- Communicate insights with clear plots and a short slide story.\n",
    "***"
   ]
  },
  {
   "cell_type": "markdown",
   "id": "52d381fc",
   "metadata": {},
   "source": [
    "# Step-by-Step Tasks\n",
    "## 1) Project setup\n",
    "Create a folder: ```retail_eda_pair_Surname1_Surname2/``` <br>\n",
    "Subfolders: ```notebooks/```, ```figures/```, ```reports/```, ```exports/```.\n",
    "## 2) Load & union the data\n",
    "- Load both sheets and concatenate into a single table.\n",
    "- Parse ```InvoiceDate``` as datetime (it includes time of day).\n",
    "- Add a column ```YearSheet``` showing the source sheet (2009–2010 vs 2010–2011) for comparisons."
   ]
  },
  {
   "cell_type": "code",
   "execution_count": 1,
   "id": "633868cf",
   "metadata": {},
   "outputs": [
    {
     "name": "stderr",
     "output_type": "stream",
     "text": [
      "/var/folders/vs/zcjd1wds7_78_tmdl741y03m0000gn/T/ipykernel_7720/3880971041.py:13: UserWarning: Could not infer format, so each element will be parsed individually, falling back to `dateutil`. To ensure parsing is consistent and as-expected, please specify a format.\n",
      "  data['InvoiceDate'] = pd.to_datetime(data['InvoiceDate'])\n"
     ]
    },
    {
     "name": "stdout",
     "output_type": "stream",
     "text": [
      "  Invoice StockCode                          Description  Quantity  \\\n",
      "0  489434     85048  15CM CHRISTMAS GLASS BALL 20 LIGHTS        12   \n",
      "1  489434    79323P                   PINK CHERRY LIGHTS        12   \n",
      "2  489434    79323W                  WHITE CHERRY LIGHTS        12   \n",
      "3  489434     22041         RECORD FRAME 7\" SINGLE SIZE         48   \n",
      "4  489434     21232       STRAWBERRY CERAMIC TRINKET BOX        24   \n",
      "\n",
      "          InvoiceDate  Price  Customer ID         Country  YearSheet  \n",
      "0 2009-12-01 07:45:00   6.95      13085.0  United Kingdom  2009-2010  \n",
      "1 2009-12-01 07:45:00   6.75      13085.0  United Kingdom  2009-2010  \n",
      "2 2009-12-01 07:45:00   6.75      13085.0  United Kingdom  2009-2010  \n",
      "3 2009-12-01 07:45:00   2.10      13085.0  United Kingdom  2009-2010  \n",
      "4 2009-12-01 07:45:00   1.25      13085.0  United Kingdom  2009-2010  \n",
      "\n",
      "\n",
      "        Invoice StockCode                      Description  Quantity  \\\n",
      "1067366  581587     22899     CHILDREN'S APRON DOLLY GIRL          6   \n",
      "1067367  581587     23254    CHILDRENS CUTLERY DOLLY GIRL          4   \n",
      "1067368  581587     23255  CHILDRENS CUTLERY CIRCUS PARADE         4   \n",
      "1067369  581587     22138    BAKING SET 9 PIECE RETROSPOT          3   \n",
      "1067370  581587      POST                          POSTAGE         1   \n",
      "\n",
      "                InvoiceDate  Price  Customer ID Country  YearSheet  \n",
      "1067366 2011-12-09 12:50:00   2.10      12680.0  France  2010-2011  \n",
      "1067367 2011-12-09 12:50:00   4.15      12680.0  France  2010-2011  \n",
      "1067368 2011-12-09 12:50:00   4.15      12680.0  France  2010-2011  \n",
      "1067369 2011-12-09 12:50:00   4.95      12680.0  France  2010-2011  \n",
      "1067370 2011-12-09 12:50:00  18.00      12680.0  France  2010-2011  \n"
     ]
    }
   ],
   "source": [
    "import pandas as pd\n",
    "import numpy as np\n",
    "\n",
    "# Load csv dataset\n",
    "data1 = pd.read_csv('/Users/jjelleazarr/Documents/GitHub/Data-Visualization-and-Analytics/retail_eda_pair_Braga_Elleazar_Mateo_Suacito/notebooks/online_retail_II.xlsx - Year 2009-2010.csv')\n",
    "data2 = pd.read_csv('/Users/jjelleazarr/Documents/GitHub/Data-Visualization-and-Analytics/retail_eda_pair_Braga_Elleazar_Mateo_Suacito/notebooks/online_retail_II.xlsx - Year 2010-2011.csv')\n",
    "# Note: Adjust the file paths on your system as needed\n",
    "\n",
    "# Concatenate datasets\n",
    "data = pd.concat([data1, data2], ignore_index=True)\n",
    "\n",
    "# Parse InvoiceDate to datetime\n",
    "data['InvoiceDate'] = pd.to_datetime(data['InvoiceDate'])\n",
    "\n",
    "# Add a column 'YearSheet' showing the source sheet (2009-2010 vs 2010-2011)\n",
    "data['YearSheet'] = np.where(data['InvoiceDate'].dt.year == 2009, '2009-2010', '2010-2011')\n",
    "\n",
    "# Display the first few rows of the combined dataset\n",
    "print(data.head())\n",
    "print(\"\\n\")\n",
    "# Display the last few rows of the combined dataset\n",
    "print(data.tail())"
   ]
  },
  {
   "cell_type": "markdown",
   "id": "d422e850",
   "metadata": {},
   "source": [
    "## 3) Basic cleaning\n",
    "- Drop exact duplicate rows.\n",
    "- Handle missing Customer ID (report % missing; keep for product/country EDA, but exclude from customer-level analyses).\n",
    "- Remove or flag zero/negative Price rows (report counts).\n",
    "- Create returns flag: Is_Return = Quantity < 0.\n",
    "- Create Revenue: Revenue = Quantity * Price (negative revenue for returns)."
   ]
  },
  {
   "cell_type": "code",
   "execution_count": 2,
   "id": "79274c7f",
   "metadata": {},
   "outputs": [
    {
     "name": "stdout",
     "output_type": "stream",
     "text": [
      "Percentage of missing Customer ID: 22.76%\n",
      "Percentage of missing Customer ID after removal: 0.00%\n",
      "Count of zero/negative Price rows: 70\n",
      "Count of zero/negative Price rows after removal: 0\n",
      "Counts of returns vs non-returns:\n",
      "Is_Return\n",
      "False    779425\n",
      "True      18390\n",
      "Name: count, dtype: int64\n",
      "Final check - Count of zero/negative Price rows: 0\n",
      "--------------------------------\n",
      "  Invoice StockCode                          Description  Quantity  \\\n",
      "0  489434     85048  15CM CHRISTMAS GLASS BALL 20 LIGHTS        12   \n",
      "1  489434    79323P                   PINK CHERRY LIGHTS        12   \n",
      "2  489434    79323W                  WHITE CHERRY LIGHTS        12   \n",
      "3  489434     22041         RECORD FRAME 7\" SINGLE SIZE         48   \n",
      "4  489434     21232       STRAWBERRY CERAMIC TRINKET BOX        24   \n",
      "\n",
      "          InvoiceDate  Price  Customer ID         Country  YearSheet  \\\n",
      "0 2009-12-01 07:45:00   6.95      13085.0  United Kingdom  2009-2010   \n",
      "1 2009-12-01 07:45:00   6.75      13085.0  United Kingdom  2009-2010   \n",
      "2 2009-12-01 07:45:00   6.75      13085.0  United Kingdom  2009-2010   \n",
      "3 2009-12-01 07:45:00   2.10      13085.0  United Kingdom  2009-2010   \n",
      "4 2009-12-01 07:45:00   1.25      13085.0  United Kingdom  2009-2010   \n",
      "\n",
      "   Is_Return  Revenue  \n",
      "0      False     83.4  \n",
      "1      False     81.0  \n",
      "2      False     81.0  \n",
      "3      False    100.8  \n",
      "4      False     30.0  \n",
      "        Invoice StockCode                      Description  Quantity  \\\n",
      "1067366  581587     22899     CHILDREN'S APRON DOLLY GIRL          6   \n",
      "1067367  581587     23254    CHILDRENS CUTLERY DOLLY GIRL          4   \n",
      "1067368  581587     23255  CHILDRENS CUTLERY CIRCUS PARADE         4   \n",
      "1067369  581587     22138    BAKING SET 9 PIECE RETROSPOT          3   \n",
      "1067370  581587      POST                          POSTAGE         1   \n",
      "\n",
      "                InvoiceDate  Price  Customer ID Country  YearSheet  Is_Return  \\\n",
      "1067366 2011-12-09 12:50:00   2.10      12680.0  France  2010-2011      False   \n",
      "1067367 2011-12-09 12:50:00   4.15      12680.0  France  2010-2011      False   \n",
      "1067368 2011-12-09 12:50:00   4.15      12680.0  France  2010-2011      False   \n",
      "1067369 2011-12-09 12:50:00   4.95      12680.0  France  2010-2011      False   \n",
      "1067370 2011-12-09 12:50:00  18.00      12680.0  France  2010-2011      False   \n",
      "\n",
      "         Revenue  \n",
      "1067366    12.60  \n",
      "1067367    16.60  \n",
      "1067368    16.60  \n",
      "1067369    14.85  \n",
      "1067370    18.00  \n"
     ]
    }
   ],
   "source": [
    "# Drop exact duplicate rows\n",
    "data = data.drop_duplicates()\n",
    "\n",
    "# Report percentage of missing Customer ID\n",
    "missing_customer_id_pct = data['Customer ID'].isna().mean() * 100\n",
    "print(f\"Percentage of missing Customer ID: {missing_customer_id_pct:.2f}%\")\n",
    "\n",
    "# Remove rows with missing Customer ID\n",
    "data = data.dropna(subset=['Customer ID'])\n",
    "\n",
    "# Check for missing customer IDs again\n",
    "missing_customer_id_pct = data['Customer ID'].isna().mean() * 100\n",
    "print(f\"Percentage of missing Customer ID after removal: {missing_customer_id_pct:.2f}%\")\n",
    "\n",
    "# Flag zero/negative Price rows\n",
    "zero_negative_price_count = (data['Price'] <= 0).sum()\n",
    "print(f\"Count of zero/negative Price rows: {zero_negative_price_count}\")\n",
    "\n",
    "# Remove rows with zero/negative Price\n",
    "data = data[data['Price'] > 0]\n",
    "\n",
    "# Check for zero/negative Price rows again\n",
    "zero_negative_price_count = (data['Price'] <= 0).sum()\n",
    "print(f\"Count of zero/negative Price rows after removal: {zero_negative_price_count}\")\n",
    "\n",
    "# Create returns flag\n",
    "data['Is_Return'] = data['Quantity'] < 0\n",
    "\n",
    "# Show counts of returns vs non-returns\n",
    "returns_counts = data['Is_Return'].value_counts()\n",
    "print(\"Counts of returns vs non-returns:\")\n",
    "print(returns_counts)\n",
    "\n",
    "# Create Revenue column (negative revenue for returns)\n",
    "data['Revenue'] = data['Quantity'] * data['Price']\n",
    "\n",
    "# Confirm no Price <= 0 rows\n",
    "zero_negative_price_count = (data['Price'] <= 0).sum()\n",
    "print(f\"Final check - Count of zero/negative Price rows: {zero_negative_price_count}\")\n",
    "\n",
    "print('--------------------------------')\n",
    "\n",
    "# Display the first few rows of the cleaned dataset\n",
    "print(data.head())\n",
    "\n",
    "# Display the last few rows of the cleaned dataset\n",
    "print(data.tail())"
   ]
  },
  {
   "cell_type": "markdown",
   "id": "1105e672",
   "metadata": {},
   "source": [
    "## 4) Time features\n",
    "From ``InvoiceDate``, derive:\n",
    "- ``Year, Quarter, Month, DayOfWeek, Hour``\n",
    "- ``InvoiceDateFloorMonth`` (month start) for monthly rollups. \n",
    "\n",
    "Checks:\n",
    "- Value counts for ``Hour`` and ``DayOfWeek`` to see busy times."
   ]
  },
  {
   "cell_type": "code",
   "execution_count": null,
   "id": "1d44efbd",
   "metadata": {},
   "outputs": [],
   "source": [
    "# Insert code for time features here"
   ]
  },
  {
   "cell_type": "markdown",
   "id": "7f85f727",
   "metadata": {},
   "source": [
    "## 5) Orders & customers\n",
    "- Define order level by ``Invoice`` (each invoice is an order).\n",
    "- Compute AOV (Average Order Value), items per order, and orders per customer (where ``Customer ID`` exists).\n",
    "- Classify customers: New vs Repeat per sheet-year (first purchase month per customer).\n",
    "\n",
    "Outputs:\n",
    "- Table: ``n_orders, n_customers (non-null), AOV, items_per_order`` per ``YearSheet``.\n",
    "- Bar chart: New vs Repeat revenue share per ``YearSheet``."
   ]
  },
  {
   "cell_type": "code",
   "execution_count": null,
   "id": "caf1c4d6",
   "metadata": {},
   "outputs": [],
   "source": [
    "# Insert code for orders & customers here"
   ]
  },
  {
   "cell_type": "markdown",
   "id": "aa029405",
   "metadata": {},
   "source": [
    "## 6) Product & country profiles\n",
    "- Top 10 products by revenue (exclude returns; show ``StockCode, Description, Revenue, Quantity``).\n",
    "- Top 10 countries by revenue and share of total (show UK vs non-UK split).\n",
    "- Return-prone products: top items by return rate = (abs(negative Qty) / total Qty), min 200 units sold threshold.\n",
    "\n",
    "Outputs:\n",
    "- Two ranked tables (products & countries).\n",
    "- One chart: UK vs Rest-of-World revenue share."
   ]
  },
  {
   "cell_type": "code",
   "execution_count": null,
   "id": "e5e5a520",
   "metadata": {},
   "outputs": [],
   "source": [
    "# Insert code for product & country profiles here"
   ]
  },
  {
   "cell_type": "markdown",
   "id": "c43497b4",
   "metadata": {},
   "source": [
    "## 7) Time-series EDA\n",
    "- Monthly revenue line for the full period (net of returns). Annotate visible spikes/dips.\n",
    "- Seasonality: average revenue by Month (1–12) over the two years.\n",
    "- Intra-day pattern: average revenue by Hour (optional if time granularity is adequate).\n",
    "\n",
    "Outputs:\n",
    "- Line chart: monthly revenue (with returns accounted for).\n",
    "- Bar/line: revenue by month number (seasonality).\n",
    "- Line: revenue by hour."
   ]
  },
  {
   "cell_type": "code",
   "execution_count": null,
   "id": "5352244e",
   "metadata": {},
   "outputs": [],
   "source": [
    "# Insert code for time-series EDA here"
   ]
  },
  {
   "cell_type": "markdown",
   "id": "26248b10",
   "metadata": {},
   "source": [
    "## 8) Returns analysis\n",
    "- Overall return rate = (sum of negative Quantity) / (sum of abs(Quantity)).\n",
    "- Return impact on revenue (sum of negative Revenue vs net revenue).\n",
    "- Returns by Country and Top 10 products (from §6).\n",
    "\n",
    "Outputs:\n",
    "- Table: return rate & revenue impact (overall, by country).\n",
    "- Short paragraph: business impact & hypotheses (e.g., product quality, shipping damages, wrong descriptions)."
   ]
  },
  {
   "cell_type": "code",
   "execution_count": null,
   "id": "905d4e65",
   "metadata": {},
   "outputs": [],
   "source": [
    "# Insert code for returns analysis here"
   ]
  },
  {
   "cell_type": "markdown",
   "id": "f6151adf",
   "metadata": {},
   "source": [
    "## 9) Customer-level snapshots (where ``Customer ID`` is present)\n",
    "- RFM-style quick view (no need to segment):\n",
    "- Recency (days since last purchase at dataset end), Frequency (# invoices), Monetary (total net revenue).\n",
    "- Histograms for R, F, M with brief observations.\n",
    "\n",
    "Outputs:\n",
    "- Three small histograms + 3 bullets of commentary (e.g., “Most customers are low-frequency one-time buyers; long tail of high-value repeaters.”)"
   ]
  },
  {
   "cell_type": "code",
   "execution_count": null,
   "id": "70427d4b",
   "metadata": {},
   "outputs": [],
   "source": [
    "# Insert code for customer-level snapshots here"
   ]
  },
  {
   "cell_type": "markdown",
   "id": "adf88b6b",
   "metadata": {},
   "source": [
    "## 10) Synthesis & recommendations\n",
    "- 5–7 clear insights (each backed by one plot/table).\n",
    "- 3 actions the retailer could test next month (e.g., “Increase stock for top product X in Country Y; reduce returns for StockCode Z via packaging or description clarity; run a weekend promo at the top revenue hour.”)"
   ]
  }
 ],
 "metadata": {
  "kernelspec": {
   "display_name": "Python 3",
   "language": "python",
   "name": "python3"
  },
  "language_info": {
   "codemirror_mode": {
    "name": "ipython",
    "version": 3
   },
   "file_extension": ".py",
   "mimetype": "text/x-python",
   "name": "python",
   "nbconvert_exporter": "python",
   "pygments_lexer": "ipython3",
   "version": "3.9.6"
  }
 },
 "nbformat": 4,
 "nbformat_minor": 5
}
